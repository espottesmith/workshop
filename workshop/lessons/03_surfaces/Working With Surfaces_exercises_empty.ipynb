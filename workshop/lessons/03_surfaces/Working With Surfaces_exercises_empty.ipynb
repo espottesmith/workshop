{
 "cells": [
  {
   "cell_type": "markdown",
   "metadata": {},
   "source": [
    "# Working With Surfaces #\n",
    "## 1. Building Elemental Surfaces ##"
   ]
  },
  {
   "cell_type": "markdown",
   "metadata": {},
   "source": [
    "### Exercise 1.1: Silicon (1, 1, 1) surfaces ###\n",
    "Let's try generating the (1, 1, 1) surfaces for a diamond Silicon structure."
   ]
  },
  {
   "cell_type": "markdown",
   "metadata": {},
   "source": [
    "We can start by importing the <i>Structure</i> class from <i>pymatgen</i> and reading the silicon structure from the <i>Si.cif</i> file:"
   ]
  },
  {
   "cell_type": "code",
   "execution_count": null,
   "metadata": {},
   "outputs": [],
   "source": []
  },
  {
   "cell_type": "markdown",
   "metadata": {},
   "source": [
    "<br>The next step is to import the <i>SlabGenerator</i> class from <i>pymatgen.core.surface</i> and then initialize it for the silicon structure, with a Miller index of (1, 1, 1), a minimum slab height of 10 Å, and minimum 10 Å of vacuum:"
   ]
  },
  {
   "cell_type": "code",
   "execution_count": null,
   "metadata": {},
   "outputs": [],
   "source": []
  },
  {
   "cell_type": "markdown",
   "metadata": {},
   "source": [
    "<br>We can now get all the corresponding slabs using <i>get_slabs()</i> and store the returned list in a new variable:"
   ]
  },
  {
   "cell_type": "code",
   "execution_count": null,
   "metadata": {},
   "outputs": [],
   "source": []
  },
  {
   "cell_type": "markdown",
   "metadata": {},
   "source": [
    "<br>How many terminations are there now?"
   ]
  },
  {
   "cell_type": "code",
   "execution_count": null,
   "metadata": {},
   "outputs": [],
   "source": []
  },
  {
   "cell_type": "markdown",
   "metadata": {},
   "source": [
    "<br>Let's check if the two slabs are equivalent by using the <i>matches()</i> method for one of the two slabs and passing the other one as the argument:"
   ]
  },
  {
   "cell_type": "code",
   "execution_count": null,
   "metadata": {},
   "outputs": [],
   "source": []
  },
  {
   "cell_type": "markdown",
   "metadata": {},
   "source": [
    "<br>We can also visualize the two slabs to convince ourselves that they are different. Start by importing <i>plot_slab</i> and <i>pyplot</i> as <i>plt</i> and then run <i>%matplotlib inline</i>:"
   ]
  },
  {
   "cell_type": "code",
   "execution_count": null,
   "metadata": {},
   "outputs": [],
   "source": []
  },
  {
   "cell_type": "markdown",
   "metadata": {},
   "source": [
    "<br>Let's now plot the two slabs. Remeber to make a <i>pyplot</i> figure and add a subplot first. For simplicity you can write the code to plot each slab in a separate cell; if you would like more of a challenge, you can try to plot them on the same figure!"
   ]
  },
  {
   "cell_type": "code",
   "execution_count": null,
   "metadata": {},
   "outputs": [],
   "source": []
  },
  {
   "cell_type": "markdown",
   "metadata": {},
   "source": [
    "<br>Finally, let's save the two silicon (1, 1, 1) surfaces to files using the <i>to()</i> method with \"cif\" as the format (the <i>fmt</i> argument) and a filename of your choice under <i>filename</i>:"
   ]
  },
  {
   "cell_type": "code",
   "execution_count": null,
   "metadata": {},
   "outputs": [],
   "source": []
  },
  {
   "cell_type": "markdown",
   "metadata": {},
   "source": [
    "<br><br>"
   ]
  },
  {
   "cell_type": "markdown",
   "metadata": {},
   "source": [
    "### Exercise 1.2: Silicon - All surfaces ###\n",
    "We can also generate all the possible surfaces up to a given Miller index. This can be achieved using the <i>generate_all_slabs()</i> function. We can import it from <i>pymatgen.core.surface</i>:"
   ]
  },
  {
   "cell_type": "code",
   "execution_count": null,
   "metadata": {},
   "outputs": [],
   "source": []
  },
  {
   "cell_type": "markdown",
   "metadata": {},
   "source": [
    "<br>Let's use this function for our Si crystal with a Miller index of up to 3, a minimum slab size of 10 Å and minimum vacuum of 10 Å and store the returned list under a new variable:"
   ]
  },
  {
   "cell_type": "code",
   "execution_count": null,
   "metadata": {},
   "outputs": [],
   "source": []
  },
  {
   "cell_type": "markdown",
   "metadata": {},
   "source": [
    "<br>How many slab structures were returned?"
   ]
  },
  {
   "cell_type": "code",
   "execution_count": null,
   "metadata": {},
   "outputs": [],
   "source": []
  },
  {
   "cell_type": "markdown",
   "metadata": {},
   "source": [
    "<br>We can investigate these surfaces further. What are their Miller indices and c shifts?"
   ]
  },
  {
   "cell_type": "code",
   "execution_count": null,
   "metadata": {},
   "outputs": [],
   "source": []
  },
  {
   "cell_type": "markdown",
   "metadata": {},
   "source": [
    "<br>Notice some Miller indices are repeated. Again, this is due to there being more than one termination. However, each Miller index + c shift combination is unique.\n",
    "<br><br>"
   ]
  },
  {
   "cell_type": "markdown",
   "metadata": {},
   "source": [
    "## 2. Building Compound Surfaces "
   ]
  },
  {
   "cell_type": "markdown",
   "metadata": {},
   "source": [
    "### Exercise 2.1: TiO<sub>2</sub> - all surfaces"
   ]
  },
  {
   "cell_type": "markdown",
   "metadata": {},
   "source": [
    "Let's generate some rutile TiO<sub>2</sub> surfaces and investigate them. We can start by importing the bulk structure from <i>TiO2.cif</i>:"
   ]
  },
  {
   "cell_type": "code",
   "execution_count": null,
   "metadata": {},
   "outputs": [],
   "source": []
  },
  {
   "cell_type": "markdown",
   "metadata": {},
   "source": [
    "<br>We should now add the corresponding oxidation states to each element using the <i>add_oxidation_state_by_element()</i> method: +4 for Ti, -2 for O:"
   ]
  },
  {
   "cell_type": "code",
   "execution_count": null,
   "metadata": {},
   "outputs": [],
   "source": []
  },
  {
   "cell_type": "markdown",
   "metadata": {},
   "source": [
    "<br>Let's now generate all slabs up to a Miller index of 2, with a minimum slab size and minimum vacuum size of 10 Å. How many such surfaces are there?"
   ]
  },
  {
   "cell_type": "code",
   "execution_count": null,
   "metadata": {},
   "outputs": [],
   "source": []
  },
  {
   "cell_type": "markdown",
   "metadata": {},
   "source": [
    "<br> For each of these slabs print its index, whether it is symmetric, and whether or not is polar. To do so, we can use the <i>enumerate()</i> function, which allows us to loop through the elements of our list and their indices at the same time: "
   ]
  },
  {
   "cell_type": "code",
   "execution_count": null,
   "metadata": {},
   "outputs": [],
   "source": []
  },
  {
   "cell_type": "markdown",
   "metadata": {},
   "source": [
    "<br>Choose a few slabs, some that are polar, some that are not, and print their dipoles (using the <i>dipole</i> property). You can use the indices you printed previously to access specific elements of the list. Are the values of the dipoles consistent with the polarity returned by <i>is_polar()</i>?"
   ]
  },
  {
   "cell_type": "code",
   "execution_count": null,
   "metadata": {},
   "outputs": [],
   "source": []
  },
  {
   "cell_type": "markdown",
   "metadata": {},
   "source": [
    "<br><br>"
   ]
  },
  {
   "cell_type": "markdown",
   "metadata": {},
   "source": [
    "### Exercise 2.2: WSe<sub>2</sub> - a layered material"
   ]
  },
  {
   "cell_type": "markdown",
   "metadata": {},
   "source": [
    "Let's now think about generating slabs for a layered material, WSe<sub>2</sub>. You can read its structure from <i>WSe2.cif</i> (if you get a warning about fractional co-ordinates do not worry about it):"
   ]
  },
  {
   "cell_type": "code",
   "execution_count": null,
   "metadata": {},
   "outputs": [],
   "source": []
  },
  {
   "cell_type": "markdown",
   "metadata": {},
   "source": [
    "<br>The bulk WSe<sub>2</sub> structure has the layers oriented along the c direction - this means that the relevant slabs, which terminate on a layer of the material, will be along the (0, 0, 1) direction. Let's initialize the <i>SlabGenerator</i> for (0, 0, 1), with a minimum slab size and minimum vacuum of 10 Å:"
   ]
  },
  {
   "cell_type": "code",
   "execution_count": null,
   "metadata": {},
   "outputs": [],
   "source": []
  },
  {
   "cell_type": "markdown",
   "metadata": {},
   "source": [
    "<br>To generate the slabs we have to also make sure that we are not breaking through any layers of atoms. In this case, that means we have to avoid breaking any of the W-Se bonds, which are 2.55 Å long. Get the slabs from the <i>SlabGenerator</i> you just created, making sure to use the <i>bonds</i> argument to avoid breaking any W-Se bonds. (Hint: in the dictionary you pass to the <i>bonds</i> argument, use a distance slightly larger than 2.55 Å to account for the rounding of this value as reported here):"
   ]
  },
  {
   "cell_type": "code",
   "execution_count": null,
   "metadata": {},
   "outputs": [],
   "source": []
  },
  {
   "cell_type": "markdown",
   "metadata": {},
   "source": [
    "<br>Let's check if our code only returned one slab, as expected:"
   ]
  },
  {
   "cell_type": "code",
   "execution_count": null,
   "metadata": {},
   "outputs": [],
   "source": []
  },
  {
   "cell_type": "markdown",
   "metadata": {},
   "source": [
    "<br>The slab you just created contains 2 layers of atoms. Let's now try to create a slab that contains 4 layers of atoms - what parameter would control this? (You can keep the vacuum size the same as before)"
   ]
  },
  {
   "cell_type": "code",
   "execution_count": null,
   "metadata": {},
   "outputs": [],
   "source": []
  },
  {
   "cell_type": "markdown",
   "metadata": {},
   "source": [
    "<br>We can print the number of sites in the original slab and the new slab, respectively, to check if the new slab has twice the number of layers. This can be done using the <i>num_sites</i> property of the slab:"
   ]
  },
  {
   "cell_type": "code",
   "execution_count": null,
   "metadata": {},
   "outputs": [],
   "source": []
  },
  {
   "cell_type": "markdown",
   "metadata": {},
   "source": [
    "<br><br>"
   ]
  },
  {
   "cell_type": "markdown",
   "metadata": {},
   "source": [
    "## 3. Adding adsorbates ##"
   ]
  },
  {
   "cell_type": "markdown",
   "metadata": {},
   "source": [
    "### Exercise 3.1: Adsorbates in the dilute limit"
   ]
  },
  {
   "cell_type": "markdown",
   "metadata": {},
   "source": [
    "While in the previous example we added one adsorbate per unit cell, in this exercise we are going to add adsorbates that are more spaced out. Let's start by importing the copper structure from the .cif file:"
   ]
  },
  {
   "cell_type": "code",
   "execution_count": null,
   "metadata": {},
   "outputs": [],
   "source": []
  },
  {
   "cell_type": "markdown",
   "metadata": {},
   "source": [
    "<br>Let's generate the (1, 1, 1) surface, with 10 Å as the minimum slab size and minimum vacuum and then extract the one slab from the returned list as a new variable:"
   ]
  },
  {
   "cell_type": "code",
   "execution_count": null,
   "metadata": {},
   "outputs": [],
   "source": []
  },
  {
   "cell_type": "markdown",
   "metadata": {},
   "source": [
    "<br> We can now import the <i>AdsorbateSiteFinder</i> and initialize it for the copper slab we just created."
   ]
  },
  {
   "cell_type": "code",
   "execution_count": null,
   "metadata": {},
   "outputs": [],
   "source": []
  },
  {
   "cell_type": "markdown",
   "metadata": {},
   "source": [
    "<br>Let's make a hydrogen <i>Molecule</i> object that we can then add to our surface (don't forget to import the <i>Molecule</i> class from <i>pymatgen</i> first):"
   ]
  },
  {
   "cell_type": "code",
   "execution_count": null,
   "metadata": {},
   "outputs": [],
   "source": []
  },
  {
   "cell_type": "markdown",
   "metadata": {},
   "source": [
    "<br> We can now generate the adsorption structures, but this time, let's use the <i>min_lw</i> argument to make our slab a supercell of the original slab. Let's set <i>min_lw</i> to be 7 Å, which will mean that the slab will be repeated multiple times in the <i>a</i> and <i>b</i> directions until it has a length and a width of at least 7 Å (the thickness of the slab i.e. the size in the <i>c</i> direction will remain unchanged). Notice that <i>min_lw</i> is an alternative to using the <i>repeat</i> argument we used in the lesson. Let's set the distance from the surface to the adsorbate to be 1.6 Å; this can be done by setting the <i>find_args</i> parameter to be a dictionary with \"distance\" as the key and 1.6 as the value:"
   ]
  },
  {
   "cell_type": "code",
   "execution_count": null,
   "metadata": {},
   "outputs": [],
   "source": []
  },
  {
   "cell_type": "markdown",
   "metadata": {},
   "source": [
    "<br>Let's now visualize the first adsorption structure in the list using <i>plot_slab()</i>. <br>Some hints:<ul><li>set the <i>adsorption_sites</i> argument of <i>plot_slab()</i> to False to not display adsorption sites</li><li>use the <i>set_xlim()</i> and <i>set_ylim()</i> methods of the matplotlib axes to \"zoom in\" around the unit cell</li><li>use the <i>set_xticks()</i> and <i>set_yticks()</i> methods of the matplotlib axes  with an empty list as an argument to remove the ticks on the x and y axis, respectively </li></ul>"
   ]
  },
  {
   "cell_type": "code",
   "execution_count": null,
   "metadata": {},
   "outputs": [],
   "source": []
  },
  {
   "cell_type": "markdown",
   "metadata": {},
   "source": [
    "You should now see that only a third of the corresponding equivalent adsorption sites have a hydrogen atom on them - compare this with the structures we generated during the lesson."
   ]
  },
  {
   "cell_type": "markdown",
   "metadata": {},
   "source": [
    "### Exercise 3.2: CO<sub>2</sub> as an adsorbate"
   ]
  },
  {
   "cell_type": "markdown",
   "metadata": {},
   "source": [
    "In this exercise we will look into some advanced controls for generating adsorption structures by working with CO<sub>2</sub>, a polyatomic adsorbate. Compared to the H adsorbate, which was rotationally invariant, CO<sub>2</sub> can be added to the surface with many different orientations. \n",
    "<br><br>The orientation of the molecule to be added as an adsorbate is controlled through the coordinates of its atoms. By default, molecules are added to surfaces so that the <i>z</i> direction in their coordinate system corresponds to the normal to the surface. Therefore, if we want to add a CO<sub>2</sub> molecule in a <b>head-on</b> orientation, we will have to position it along the <i>z</i> axis, whereas if we want it to be adsorbed <b>side-on</b>, it will have to be positioned in the <i>x-y</i> plane. \n",
    "<br><br>To investigate these possibilites, let's create three different CO<sub>2</sub> molecules: one oriented along the <i>x</i> direction, one along <i>y</i>, and one along <i>z</i>. The C-O bond length in CO<sub>2</sub> is 1.16 Å. (For simplicity, you can define each C atom at [0, 0, 0], and then for each direction in turn, one O atom at -1.16 Å and the other one at 1.16 Å, while all other coordinates are 0):"
   ]
  },
  {
   "cell_type": "code",
   "execution_count": null,
   "metadata": {},
   "outputs": [],
   "source": []
  },
  {
   "cell_type": "markdown",
   "metadata": {},
   "source": [
    "<br>We can now think about adding these molecules to the copper (1, 1, 1) surface from before. Let's start by finding all the adsorpton sites using the <i>find_adsorption_sites()</i> method of the <i>AdsorbateSiteFinder</i> class (you should already have an instance of the <i>AdsorbateSiteFinder</i> for the copper surface from the previous exercise). Extract the coordinates of the only \"ontop\" site returned into a new variable:"
   ]
  },
  {
   "cell_type": "code",
   "execution_count": null,
   "metadata": {},
   "outputs": [],
   "source": []
  },
  {
   "cell_type": "markdown",
   "metadata": {},
   "source": [
    "<br>We can now add the CO<sub>2</sub> molecule to the copper surface using the <i>add_adsorbate()</i> method of the <i>AdsorbateSiteFinder</i> class. To keep the distance between the CO<sub>2</sub> adsorbates larger than the size of the unit cell, set the <i>repeat</i> argument to [2, 2, 1] - this will repeat the slab unit cell twice in the <i>a</i> and <i>b</i> directions, while the size in the <i>c</i> direction will stay the same. Do this for each of the three CO<sub>2</sub> molecules you defined above and assign the resulting adsorption structures to new variables called <i>x_struct</i>, <i>y_struct</i>, and <i>z_struct</i> (where the name corresponds to the orientation of the CO<sub>2</sub>):"
   ]
  },
  {
   "cell_type": "code",
   "execution_count": null,
   "metadata": {},
   "outputs": [],
   "source": []
  },
  {
   "cell_type": "markdown",
   "metadata": {},
   "source": [
    "<br>Finally, let's examine our adsorption structures! To do this, uncomment and run the cell below (it might take a while to complete):"
   ]
  },
  {
   "cell_type": "code",
   "execution_count": 3,
   "metadata": {},
   "outputs": [],
   "source": [
    "# for struc, ax, title in zip([x_struct, y_struct, z_struct], plt.subplots(1, 3, figsize=[15, 45])[1], [\"x\", \"y\", \"z\"]):\n",
    "#     plot_slab(struc, ax, adsorption_sites=False)\n",
    "#     ax.set_title(r\"CO$_2$ in the %s direction\" % title)\n",
    "#     ax.set_xlim(-1, 10)\n",
    "#     ax.set_ylim(-3, 8)\n",
    "#     ax.set_xticks([])\n",
    "#     ax.set_yticks([])\n",
    "# plt.show()"
   ]
  },
  {
   "cell_type": "markdown",
   "metadata": {},
   "source": [
    "You can now see how the three different geometries of the initial CO<sub>2</sub> molecule led to three very different adsorption structures - and these are just a few of the many possible orientations. (A note on the <i>z</i> direction plot: Since all the plots are of the plane of the surface, in the <i>z</i> direction case it is difficult to see the CO<sub>2</sub> molecule because the three atoms are stacked in the direction coming out of the plane of the plot. This is also the reason why the copper atoms look more faded than in the other two cases - they are further away from the topmost atom in the structure, so they appear more discolored in the plot.)\n",
    "    "
   ]
  },
  {
   "cell_type": "markdown",
   "metadata": {},
   "source": [
    "These three adsorption structures can now be saved to cif files that you can later open in a visualization software of your choice:"
   ]
  },
  {
   "cell_type": "code",
   "execution_count": null,
   "metadata": {},
   "outputs": [],
   "source": []
  }
 ],
 "metadata": {
  "kernelspec": {
   "display_name": "Python [cms]",
   "language": "python",
   "name": "cms"
  },
  "language_info": {
   "codemirror_mode": {
    "name": "ipython",
    "version": 3
   },
   "file_extension": ".py",
   "mimetype": "text/x-python",
   "name": "python",
   "nbconvert_exporter": "python",
   "pygments_lexer": "ipython3",
   "version": "3.7.3"
  }
 },
 "nbformat": 4,
 "nbformat_minor": 4
}
