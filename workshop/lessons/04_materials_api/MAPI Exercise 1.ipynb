{
 "cells": [
  {
   "cell_type": "markdown",
   "metadata": {},
   "source": [
    "# Materials API - Exercise 1\n",
    "\n",
    "In this excercise, your task is to plot the distribution of crystal systems (cubic, tetragonal, monoclinic, etc) within all SiO$_2$ compounds. You will do this through the following 3 steps:\n",
    "\n",
    "1. Retrieve the spacegroup entries in the MP database with the formula SiO$_2$\n",
    "2. Collect their crystal systems\n",
    "3. Plot a bar chart with the data"
   ]
  },
  {
   "cell_type": "markdown",
   "metadata": {},
   "source": [
    "## Step 1: Retrieve the spacegroup entries in the MP database with the formula SiO$_2$\n",
    "\n",
    "Use the Materials API to get the \"structure\" property for all SiO$_2$ compounds. \n",
    "\n",
    "_Hint: use the `query` method of the `MPRester`._"
   ]
  },
  {
   "cell_type": "code",
   "execution_count": null,
   "metadata": {},
   "outputs": [],
   "source": [
    "# Your code here"
   ]
  },
  {
   "cell_type": "markdown",
   "metadata": {},
   "source": [
    "## Step 2: Extract the crystal_system property for the entries we retrieved into a list\n",
    "\n",
    "_Hint: \"crystal_system\" is a subkey of the spacegroup property._"
   ]
  },
  {
   "cell_type": "code",
   "execution_count": null,
   "metadata": {},
   "outputs": [],
   "source": [
    "# Your code here"
   ]
  },
  {
   "cell_type": "markdown",
   "metadata": {},
   "source": [
    "## Step 3: Process the data and plot the results\n",
    "\n",
    "Our data is currently a list of crystal systems. Your task now is to create a \"count_dict\" where each key is the name of the crystal system and it's value is the count for that crystal system. Once you have written code to create `count_dict`, you the cell beneath it will plot the data for you.\n",
    "\n",
    "_Hint: Iterate through the list of crystal_systems you just created using a for loop and check if they are already in the dictionary before updating any entries._"
   ]
  },
  {
   "cell_type": "code",
   "execution_count": null,
   "metadata": {},
   "outputs": [],
   "source": [
    "count_dict = {}\n",
    "# Your code here"
   ]
  },
  {
   "cell_type": "code",
   "execution_count": null,
   "metadata": {},
   "outputs": [],
   "source": [
    "import matplotlib.pyplot as plt\n",
    "\n",
    "%matplotlib inline\n",
    "\n",
    "# The code below plots the distribution\n",
    "plt.bar(range(len(count_dict)), count_dict.values(), align='center')\n",
    "plt.xticks(range(len(count_dict)), [key[0:5] for key in list(count_dict.keys())])\n",
    "plt.title('Distribution of crystal systems within SiO2 compounds')\n",
    "plt.show()"
   ]
  },
  {
   "cell_type": "code",
   "execution_count": null,
   "metadata": {},
   "outputs": [],
   "source": []
  }
 ],
 "metadata": {
  "kernelspec": {
   "display_name": "Python 3",
   "language": "python",
   "name": "python3"
  },
  "language_info": {
   "codemirror_mode": {
    "name": "ipython",
    "version": 3
   },
   "file_extension": ".py",
   "mimetype": "text/x-python",
   "name": "python",
   "nbconvert_exporter": "python",
   "pygments_lexer": "ipython3",
   "version": "3.8.2"
  }
 },
 "nbformat": 4,
 "nbformat_minor": 4
}
