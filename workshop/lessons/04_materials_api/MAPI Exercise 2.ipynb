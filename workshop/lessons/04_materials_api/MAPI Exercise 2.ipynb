{
 "cells": [
  {
   "cell_type": "markdown",
   "metadata": {},
   "source": [
    "# Materials API - Exercise 2: Using the MPRester and Pymatgen to Find Materials With Exotic Mechanical Properties\n",
    "\n",
    "The tetragonal SiO$_2$ polymorph $\\alpha$-cristobalite is one of the very few crystalline materials known to have a negative average Poisson's ratio, which means that its cross-section expands under tensile strain rather than contracting. This property can be extremely useful in a variety of applications such as scratch-resistant coatings and high-toughness ceramics. \n",
    "\n",
    "Why does $\\alpha$-cristobalite exhibit this property while other materials do not? The prevailing hypothesis is that $\\alpha$-cristobalite's negative Poisson's ratio is a result of its crystal structure. If that's the case, then perhaps we can find other materials with this exotic property by looking for materials with similar structures and then calculating their Poisson's ratios."
   ]
  },
  {
   "cell_type": "markdown",
   "metadata": {},
   "source": [
    "## Step 1: Retrieve the structure of $\\alpha$-cristobalite\n",
    "\n",
    "First, we should find the ground state structure for $\\alpha$-cristobalite, which has the spacegroup $P4_12_12$ [92]. Remember, stable materials have *low* energy above hull (`e_above_hull`).\n",
    "\n",
    "_Hint: Query for the formula and spacegroup for the desired compound and then select the one with the lowest e_above_hull if there are multiple results._"
   ]
  },
  {
   "cell_type": "code",
   "execution_count": null,
   "metadata": {},
   "outputs": [],
   "source": [
    "ac_structure = <YOUR CODE HERE>"
   ]
  },
  {
   "cell_type": "markdown",
   "metadata": {},
   "source": [
    "## Step 2: Build a structure comparison engine and test it out\n",
    "\n",
    "The code below creates a structure matcher object that can be used to compare if two structures are simlar (loose tolerances = similar, tight tolerances = identical). Please verify that the structure matcher works for identical structure by comparing the structure of AC with itself. \n",
    "\n",
    "_Hint: Replace <YOUR CODE HERE> with the two structures you want to compare, separated by a comma._"
   ]
  },
  {
   "cell_type": "code",
   "execution_count": null,
   "metadata": {
    "scrolled": true
   },
   "outputs": [],
   "source": [
    "##### Don't edit code below #####\n",
    "\n",
    "from pymatgen.analysis.structure_matcher import StructureMatcher\n",
    "from pymatgen.analysis.structure_matcher import FrameworkComparator\n",
    "# This line initializes our comparator. Please don't play with its tolerances until after you are done\n",
    "comparison_engine = StructureMatcher(ltol=.2, stol=.5, angle_tol=10, primitive_cell=True, \n",
    "                                     scale=True, attempt_supercell=True, \n",
    "                                     comparator=FrameworkComparator())\n",
    "##### Don't edit code above #####"
   ]
  },
  {
   "cell_type": "code",
   "execution_count": null,
   "metadata": {},
   "outputs": [],
   "source": [
    "print(sm.fit(<YOUR CODE HERE>))"
   ]
  },
  {
   "cell_type": "markdown",
   "metadata": {},
   "source": [
    "We know that the high-temperature phase of cristobalite, $\\beta$-cristobalite [(mp-546794)](https://materialsproject.org/materials/mp-546794/), has a very similar structure to $\\alpha$-cristobalite. Let's see if the structure matcher agrees. Please retreive the structure for `mp-546794` and then compare it with our prototype structure. \n",
    "\n",
    "_Hint: No need to re-initialize the structure matcher. Just call it's `fit` function again._"
   ]
  },
  {
   "cell_type": "code",
   "execution_count": null,
   "metadata": {},
   "outputs": [],
   "source": [
    "# Your code here"
   ]
  },
  {
   "cell_type": "markdown",
   "metadata": {},
   "source": [
    "Just to make sure we haven't increased the tolerances too much, please try it against a random compound to make sure it's not matching dissimilar structures.\n",
    "\n",
    "_Hint: \"mp-4991\" is a good random MPID you can use_"
   ]
  },
  {
   "cell_type": "code",
   "execution_count": null,
   "metadata": {},
   "outputs": [],
   "source": [
    "# Your code here"
   ]
  },
  {
   "cell_type": "markdown",
   "metadata": {},
   "source": [
    "## Step 3: Get a set of candidate structures to compare\n",
    "\n",
    "Now that we have our comparator, we need some candidates to screen! \n",
    "\n",
    "Imagine that we have an experimental colleague, Soren Tsarpinski, who is an expert at synthesizing vanadate compounds. We have a hunch that some of the vanadates coming out of Dr. Tsarpinski's lab might have similar structures to $\\alpha$-cristobalite and therefore might have negative Poisson's ratios. Let's see if we're right:\n",
    "\n",
    "For our search, we want to start with a set of structures that are:\n",
    "* Computationally tractable, so not too many sites (i.e `nsites` <50 is a good number)\n",
    "* Not too unlikely to be synthesizable (energy above hull <100 meV, i.e. `{e_above_hull: {\"$lt\": 0.1}`)\n",
    "* Have a \"vanadate\" composition, i.e. `\"*V3O8\"`\n",
    "\n",
    "Construct and execute a query to get the structure, MPID, and pretty_formula for all materials that match these criteria:\n",
    "\n",
    "_Aside; Soren Tsarpinski is an anagram. There is a prize for the first workshop atendee that can guess the original phrase it comes from. (Submit your anwswers on Slack, please.)_"
   ]
  },
  {
   "cell_type": "code",
   "execution_count": null,
   "metadata": {},
   "outputs": [],
   "source": [
    "# Your code here"
   ]
  },
  {
   "cell_type": "markdown",
   "metadata": {},
   "source": [
    "## Step 4: Screen the vanadates for similar structures to $\\alpha$-cristobalite and then check if our hypothesis is valid by querying for their Poisson's ratios. \n",
    "\n",
    "Now that we have a list of vanadates, let's screen it for similar structures. After we have the similar structures, make one final query to the Materials API to retrieve the `pretty_formula` and `elasticity.homogenious_poisson` property for each one. \n",
    "\n",
    "_Hint: Create an empty list for matches and then iterate through the vanadate entries with a for loop. If its structure is similar to $\\alpha$-cristobalite, append its `material_id` to a list of matches. After you have a match list, query the Materials API for entries with a `material_id` that is in your matches list using the `$in` mongodb operator (e.g `{\"material_id\": {\"$in$: matches}}`)_"
   ]
  },
  {
   "cell_type": "code",
   "execution_count": null,
   "metadata": {},
   "outputs": [],
   "source": [
    "# Your code here"
   ]
  }
 ],
 "metadata": {
  "kernelspec": {
   "display_name": "Python 3",
   "language": "python",
   "name": "python3"
  },
  "language_info": {
   "codemirror_mode": {
    "name": "ipython",
    "version": 3
   },
   "file_extension": ".py",
   "mimetype": "text/x-python",
   "name": "python",
   "nbconvert_exporter": "python",
   "pygments_lexer": "ipython3",
   "version": "3.8.2"
  }
 },
 "nbformat": 4,
 "nbformat_minor": 4
}
