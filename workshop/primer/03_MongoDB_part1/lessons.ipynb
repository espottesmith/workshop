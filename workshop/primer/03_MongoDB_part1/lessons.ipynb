{
 "cells": [
  {
   "cell_type": "markdown",
   "metadata": {},
   "source": [
    "# Intro to MongoDB and the Nobel Prize Dataset - Lesson 1"
   ]
  },
  {
   "cell_type": "markdown",
   "metadata": {},
   "source": [
    "## Why MongoDB?\n",
    "\n",
    "* All Materials Project data is stored using MongoDB \n",
    "* Our API query language is based on MongoDB syntax"
   ]
  },
  {
   "cell_type": "markdown",
   "metadata": {},
   "source": [
    "### MongoDB Structure\n",
    "\n",
    "* Data objects represented by ***documents***\n",
    "* Documents organized into ***collections***\n",
    "* Collections make up a ***database***"
   ]
  },
  {
   "cell_type": "markdown",
   "metadata": {},
   "source": [
    "### Data Structure"
   ]
  },
  {
   "cell_type": "markdown",
   "metadata": {},
   "source": [
    "object → {`field`: `value`, `field1`: `value1`, ...}\n"
   ]
  },
  {
   "cell_type": "markdown",
   "metadata": {},
   "source": [
    "fields: `string`\n",
    "\n",
    "\n",
    "values:  `string`, `int/double`, `true`, `false`, `null`, `array`, `object`, ..."
   ]
  },
  {
   "cell_type": "markdown",
   "metadata": {},
   "source": [
    "*example:*\n",
    "\n",
    "```\n",
    "{\n",
    "    name: Sue,\n",
    "    age: 28,\n",
    "    lawSpecialties: [copyright, tax],\n",
    "    canMeet:\n",
    "        { \n",
    "            mon: True,\n",
    "            tues: False,\n",
    "            wed: True,\n",
    "            thurs: True,\n",
    "            fri: False,\n",
    "        }    \n",
    "}\n",
    "```"
   ]
  },
  {
   "cell_type": "markdown",
   "metadata": {},
   "source": [
    "### JavaScript Object Notation (JSON)"
   ]
  },
  {
   "cell_type": "markdown",
   "metadata": {},
   "source": [
    "object → {`string`: `value`, `string1`: `value1`, ...}\n",
    "\n",
    "\n",
    "\n",
    "values: `string`, `number`, `true`, `false`, `null`, `object`, `array`"
   ]
  },
  {
   "cell_type": "markdown",
   "metadata": {},
   "source": [
    "### JSON $\\longleftrightarrow$ Python"
   ]
  },
  {
   "cell_type": "markdown",
   "metadata": {},
   "source": [
    "objects → {`string`: `value`,`string1`: `value1`, ...}\n",
    "\n",
    "---> *dictionaries* (with `str` keys)"
   ]
  },
  {
   "cell_type": "markdown",
   "metadata": {},
   "source": [
    "arrays → [`value`, `value1`, ...]\n",
    "\n",
    "---> *lists*"
   ]
  },
  {
   "cell_type": "markdown",
   "metadata": {},
   "source": [
    "values: `string`, `number`, `true`, `false`, `null`, `object`, `array`\n",
    "\n",
    "```python\n",
    "str, int, float, True, False, None, dict, list\n",
    "```"
   ]
  },
  {
   "cell_type": "markdown",
   "metadata": {},
   "source": [
    "### Accessing MongoDB"
   ]
  },
  {
   "cell_type": "markdown",
   "metadata": {},
   "source": [
    "We can access our MongoDB databases using an instance of `MongoClient` from the `pymongo` package."
   ]
  },
  {
   "cell_type": "code",
   "execution_count": 1,
   "metadata": {
    "tags": []
   },
   "outputs": [
    {
     "name": "stdout",
     "output_type": "stream",
     "text": [
      "MongoClient(host=['localhost:27017'], document_class=dict, tz_aware=False, connect=True)\n"
     ]
    }
   ],
   "source": [
    "from pymongo import MongoClient\n",
    "\n",
    "client = MongoClient()\n",
    "print(client)"
   ]
  },
  {
   "cell_type": "markdown",
   "metadata": {},
   "source": [
    "You can access databases and collections as attributes and/or treat them as dictionary keys."
   ]
  },
  {
   "cell_type": "code",
   "execution_count": 2,
   "metadata": {},
   "outputs": [
    {
     "data": {
      "text/plain": [
       "True"
      ]
     },
     "execution_count": 2,
     "metadata": {},
     "output_type": "execute_result"
    }
   ],
   "source": [
    "client.nobel == client[\"nobel\"]"
   ]
  },
  {
   "cell_type": "code",
   "execution_count": 3,
   "metadata": {},
   "outputs": [
    {
     "data": {
      "text/plain": [
       "True"
      ]
     },
     "execution_count": 3,
     "metadata": {},
     "output_type": "execute_result"
    }
   ],
   "source": [
    "client.nobel.prizes == client[\"nobel\"][\"prizes\"]"
   ]
  },
  {
   "cell_type": "markdown",
   "metadata": {},
   "source": [
    "We can also connect to the nobel database."
   ]
  },
  {
   "cell_type": "code",
   "execution_count": 4,
   "metadata": {
    "tags": []
   },
   "outputs": [
    {
     "name": "stdout",
     "output_type": "stream",
     "text": [
      "Database(MongoClient(host=['localhost:27017'], document_class=dict, tz_aware=False, connect=True), 'nobel')\n"
     ]
    }
   ],
   "source": [
    "db = client.nobel\n",
    "print(db)"
   ]
  },
  {
   "cell_type": "markdown",
   "metadata": {},
   "source": [
    "### Searching for documents "
   ]
  },
  {
   "cell_type": "markdown",
   "metadata": {},
   "source": [
    "Let's see what a document looks like in the `prizes` collection using the `find_one()` method. This takes an optional `filter` argument. Passing an empty filter (`{}`) is the same as passing no filter. In Python, the returned document takes the form of a dictionary. The keys of the dictionary are the (root-level) \"fields\" of the document."
   ]
  },
  {
   "cell_type": "code",
   "execution_count": 5,
   "metadata": {},
   "outputs": [
    {
     "data": {
      "text/plain": [
       "{'_id': ObjectId('5f1f4e9430688833f8e30309'),\n",
       " 'year': '2019',\n",
       " 'category': 'chemistry',\n",
       " 'laureates': [{'id': '976',\n",
       "   'firstname': 'John',\n",
       "   'surname': 'Goodenough',\n",
       "   'motivation': '\"for the development of lithium-ion batteries\"',\n",
       "   'share': '3'},\n",
       "  {'id': '977',\n",
       "   'firstname': 'M. Stanley',\n",
       "   'surname': 'Whittingham',\n",
       "   'motivation': '\"for the development of lithium-ion batteries\"',\n",
       "   'share': '3'},\n",
       "  {'id': '978',\n",
       "   'firstname': 'Akira',\n",
       "   'surname': 'Yoshino',\n",
       "   'motivation': '\"for the development of lithium-ion batteries\"',\n",
       "   'share': '3'}]}"
      ]
     },
     "execution_count": 5,
     "metadata": {},
     "output_type": "execute_result"
    }
   ],
   "source": [
    "db.prizes.find_one({})"
   ]
  },
  {
   "cell_type": "markdown",
   "metadata": {},
   "source": [
    "We can now add a filter to our search to ensure that the returned `prizes` document contains data for a physics nobel prize."
   ]
  },
  {
   "cell_type": "code",
   "execution_count": 6,
   "metadata": {},
   "outputs": [
    {
     "data": {
      "text/plain": [
       "{'_id': ObjectId('5f1f4e9430688833f8e3030d'),\n",
       " 'year': '2019',\n",
       " 'category': 'physics',\n",
       " 'overallMotivation': '\"for contributions to our understanding of the evolution of the universe and Earth’s place in the cosmos\"',\n",
       " 'laureates': [{'id': '973',\n",
       "   'firstname': 'James',\n",
       "   'surname': 'Peebles',\n",
       "   'motivation': '\"for theoretical discoveries in physical cosmology\"',\n",
       "   'share': '2'},\n",
       "  {'id': '974',\n",
       "   'firstname': 'Michel',\n",
       "   'surname': 'Mayor',\n",
       "   'motivation': '\"for the discovery of an exoplanet orbiting a solar-type star\"',\n",
       "   'share': '4'},\n",
       "  {'id': '975',\n",
       "   'firstname': 'Didier',\n",
       "   'surname': 'Queloz',\n",
       "   'motivation': '\"for the discovery of an exoplanet orbiting a solar-type star\"',\n",
       "   'share': '4'}]}"
      ]
     },
     "execution_count": 6,
     "metadata": {},
     "output_type": "execute_result"
    }
   ],
   "source": [
    "criteria = {\"category\": \"physics\"}\n",
    "db.prizes.find_one(criteria)"
   ]
  },
  {
   "cell_type": "markdown",
   "metadata": {},
   "source": [
    "You may iterate over a collection, collecting from each document. However, a collection is not a list, so we can't write `for doc in <collection>` to iterate over documents. Instead, we can use the `find()` method to produce an iterable called a _cursor_, and instead write `for doc in <collection>.find()` to iterate over documents."
   ]
  },
  {
   "cell_type": "markdown",
   "metadata": {},
   "source": [
    "- Using `find()` to iterate over documents in the `laureates` collection, sum the total number of laureate prizes. The length of `doc[\"prizes\"]` for a laureate document `doc` is the number of prizes won by that laureate. Store the sum in the variable `count`."
   ]
  },
  {
   "cell_type": "code",
   "execution_count": 7,
   "metadata": {},
   "outputs": [],
   "source": [
    "# Compute the total number of laureate prizes\n",
    "count = 0\n",
    "cursor = db.laureates.find({})\n",
    "for doc in cursor:\n",
    "    num_prizes = len(doc[\"prizes\"])\n",
    "    count += num_prizes"
   ]
  },
  {
   "cell_type": "code",
   "execution_count": 8,
   "metadata": {},
   "outputs": [
    {
     "data": {
      "text/plain": [
       "950"
      ]
     },
     "execution_count": 8,
     "metadata": {},
     "output_type": "execute_result"
    }
   ],
   "source": [
    "count"
   ]
  },
  {
   "cell_type": "markdown",
   "metadata": {},
   "source": [
    "##  Listing and Counting - Lesson 2"
   ]
  },
  {
   "cell_type": "code",
   "execution_count": 9,
   "metadata": {
    "tags": []
   },
   "outputs": [
    {
     "name": "stdout",
     "output_type": "stream",
     "text": [
      "MongoClient(host=['localhost:27017'], document_class=dict, tz_aware=False, connect=True)\n"
     ]
    }
   ],
   "source": [
    "from pymongo import MongoClient\n",
    "\n",
    "client = MongoClient()\n",
    "print(client)"
   ]
  },
  {
   "cell_type": "markdown",
   "metadata": {},
   "source": [
    "### Listing databases and collections"
   ]
  },
  {
   "cell_type": "markdown",
   "metadata": {},
   "source": [
    "Recall:\n",
    "- Data objects represented by ***documents***\n",
    "- Documents organized into ***collections***\n",
    "- Collections make up a ***database***\n",
    "\n",
    "We can list database names by calling `list_database_names()` on a client instance, and we can list collection names by calling `list_collection_names()` on a database instance."
   ]
  },
  {
   "cell_type": "markdown",
   "metadata": {},
   "source": [
    "- How many databases are managed by `client`?"
   ]
  },
  {
   "cell_type": "code",
   "execution_count": 10,
   "metadata": {
    "tags": []
   },
   "outputs": [
    {
     "name": "stdout",
     "output_type": "stream",
     "text": [
      "['admin', 'config', 'drone_test', 'fireworks', 'local', 'maggma_test', 'mp_workshop', 'nobel']\n",
      "['prizes', 'laureates']\n"
     ]
    }
   ],
   "source": [
    "# Save a list of names of the databases managed by client\n",
    "db_names = client.list_database_names()\n",
    "print(db_names)\n",
    "\n",
    "# Save a list of names of the collections managed by the \"nobel\" database\n",
    "nobel_coll_names = client.nobel.list_collection_names()\n",
    "print(nobel_coll_names)"
   ]
  },
  {
   "cell_type": "markdown",
   "metadata": {},
   "source": [
    "### Counting documents"
   ]
  },
  {
   "cell_type": "code",
   "execution_count": 11,
   "metadata": {},
   "outputs": [],
   "source": [
    "# Connect to our \"nobel\" database\n",
    "db = client.nobel"
   ]
  },
  {
   "cell_type": "markdown",
   "metadata": {},
   "source": [
    "The `count_documents()` method of a collection can be used to count the number of documents matching a particular filter. Let's use the method to count the total number of nobel laureates who died in the USA.\n",
    "\n",
    "An example `laureates` document:\n",
    "\n",
    "```\n",
    "{'_id': ObjectId('5b9ac94ff35b63cf5231ccb1'),\n",
    " 'born': '1845-03-27',\n",
    " 'bornCity': 'Lennep (now Remscheid)',\n",
    " 'bornCountry': 'Prussia (now Germany)',\n",
    " 'bornCountryCode': 'DE',\n",
    " 'died': '1923-02-10',\n",
    " 'diedCity': 'Munich',\n",
    " 'diedCountry': 'Germany',\n",
    " 'diedCountryCode': 'DE',\n",
    " 'firstname': 'Wilhelm Conrad',\n",
    " 'gender': 'male',\n",
    " 'id': '1',\n",
    " 'prizes': [{'affiliations': [{'city': 'Munich',\n",
    "                               'country': 'Germany',\n",
    "                               'name': 'Munich University'}],\n",
    "             'category': 'physics',\n",
    "             'motivation': '\"in recognition of the extraordinary services '\n",
    "                           'he has rendered by the discovery of the '\n",
    "                           'remarkable rays subsequently named after him\"',\n",
    "             'share': '1',\n",
    "             'year': '1901'}],\n",
    " 'surname': 'Röntgen'}\n",
    "```"
   ]
  },
  {
   "cell_type": "code",
   "execution_count": 12,
   "metadata": {},
   "outputs": [
    {
     "data": {
      "text/plain": [
       "222"
      ]
     },
     "execution_count": 12,
     "metadata": {},
     "output_type": "execute_result"
    }
   ],
   "source": [
    "db.laureates.count_documents({\"diedCountry\": \"USA\"})"
   ]
  },
  {
   "cell_type": "markdown",
   "metadata": {},
   "source": [
    "We can now build out our filter to reduce the total number of matching documents:\n",
    "\n",
    "\n",
    "- Create a filter `criteria` to count the number of laureates who died in the USA but were born (`\"bornCountry\"`) in Germany."
   ]
  },
  {
   "cell_type": "code",
   "execution_count": 13,
   "metadata": {
    "tags": []
   },
   "outputs": [
    {
     "name": "stdout",
     "output_type": "stream",
     "text": [
      "5\n"
     ]
    }
   ],
   "source": [
    "# Create a filter for laureates who died in the USA but were born in Germany\n",
    "criteria = {\"diedCountry\": \"USA\", \"bornCountry\": \"Germany\"}\n",
    "\n",
    "# Save a count\n",
    "count = db.laureates.count_documents(criteria)\n",
    "print(count)"
   ]
  },
  {
   "cell_type": "markdown",
   "metadata": {},
   "source": [
    "- Count laureates who died in the USA, were born in Germany, and whose first name (`\"firstname\"`) was \"Albert\"."
   ]
  },
  {
   "cell_type": "code",
   "execution_count": 14,
   "metadata": {
    "tags": []
   },
   "outputs": [
    {
     "name": "stdout",
     "output_type": "stream",
     "text": [
      "1\n"
     ]
    }
   ],
   "source": [
    "# Create a filter for laureates who died in the USA, were born in Germany, and whose first name was Albert.\n",
    "criteria = {\"diedCountry\": \"USA\", \"bornCountry\": \"Germany\", \"firstname\": \"Albert\"}\n",
    "\n",
    "# Count them and save the count.\n",
    "count = db.laureates.count_documents(criteria)\n",
    "print(count)"
   ]
  },
  {
   "cell_type": "code",
   "execution_count": 15,
   "metadata": {},
   "outputs": [
    {
     "data": {
      "text/plain": [
       "{'_id': ObjectId('5f1f4e418defad6d9f1ccead'),\n",
       " 'id': '26',\n",
       " 'firstname': 'Albert',\n",
       " 'surname': 'Einstein',\n",
       " 'born': '1879-03-14',\n",
       " 'died': '1955-04-18',\n",
       " 'bornCountry': 'Germany',\n",
       " 'bornCountryCode': 'DE',\n",
       " 'bornCity': 'Ulm',\n",
       " 'diedCountry': 'USA',\n",
       " 'diedCountryCode': 'US',\n",
       " 'diedCity': 'Princeton, NJ',\n",
       " 'gender': 'male',\n",
       " 'prizes': [{'year': '1921',\n",
       "   'category': 'physics',\n",
       "   'share': '1',\n",
       "   'motivation': '\"for his services to Theoretical Physics, and especially for his discovery of the law of the photoelectric effect\"',\n",
       "   'affiliations': [{'name': 'Kaiser-Wilhelm-Institut (now Max-Planck-Institut) für Physik',\n",
       "     'city': 'Berlin',\n",
       "     'country': 'Germany'}]}]}"
      ]
     },
     "execution_count": 15,
     "metadata": {},
     "output_type": "execute_result"
    }
   ],
   "source": [
    "db.laureates.find_one(criteria)"
   ]
  },
  {
   "cell_type": "markdown",
   "metadata": {},
   "source": [
    "## Finding, and Dot Notation - Lesson 3"
   ]
  },
  {
   "cell_type": "code",
   "execution_count": 16,
   "metadata": {
    "tags": []
   },
   "outputs": [
    {
     "name": "stdout",
     "output_type": "stream",
     "text": [
      "MongoClient(host=['localhost:27017'], document_class=dict, tz_aware=False, connect=True)\n",
      "Database(MongoClient(host=['localhost:27017'], document_class=dict, tz_aware=False, connect=True), 'nobel')\n"
     ]
    }
   ],
   "source": [
    "from pymongo import MongoClient\n",
    "\n",
    "client = MongoClient()\n",
    "db = client.nobel\n",
    "print(client)\n",
    "print(db)"
   ]
  },
  {
   "cell_type": "markdown",
   "metadata": {},
   "source": [
    "### Query operators"
   ]
  },
  {
   "cell_type": "markdown",
   "metadata": {},
   "source": [
    "Query operators provide us more options when constructing filters. For example, we may wish to find documents where a field's value matches any of a set of options. To do this we can use the `$in` query operator."
   ]
  },
  {
   "cell_type": "markdown",
   "metadata": {},
   "source": [
    "- How many laureates were born in any of \"Canada\", \"Mexico\", or \"USA\"? "
   ]
  },
  {
   "cell_type": "code",
   "execution_count": 17,
   "metadata": {
    "tags": []
   },
   "outputs": [
    {
     "name": "stdout",
     "output_type": "stream",
     "text": [
      "295\n"
     ]
    }
   ],
   "source": [
    "#Save a filter for laureates who were born in with Canada, Mexico, or the USA.\n",
    "criteria = {\"bornCountry\": {\"$in\": [\"Canada\", \"Mexico\", \"USA\"]}}\n",
    "\n",
    "# Count them and save the count.\n",
    "count = db.laureates.count_documents(criteria)\n",
    "print(count)"
   ]
  },
  {
   "cell_type": "markdown",
   "metadata": {},
   "source": [
    "If we wish to accept all but one option as a value for a field, we can use the `$ne` (**n**ot **e**qual) operator."
   ]
  },
  {
   "cell_type": "markdown",
   "metadata": {},
   "source": [
    "- How many laureates died in the USA but were not born in the USA?"
   ]
  },
  {
   "cell_type": "code",
   "execution_count": 18,
   "metadata": {
    "tags": []
   },
   "outputs": [
    {
     "name": "stdout",
     "output_type": "stream",
     "text": [
      "71\n"
     ]
    }
   ],
   "source": [
    "# Save a filter for laureates who died in the USA and were not born there.\n",
    "criteria = {\"bornCountry\": {\"$ne\": \"USA\"}, \"diedCountry\": \"USA\"}\n",
    "\n",
    "# Count them and save the count.\n",
    "count = db.laureates.count_documents(criteria)\n",
    "print(count)"
   ]
  },
  {
   "cell_type": "markdown",
   "metadata": {},
   "source": [
    "Below is a list of *comparison* query operators that are available in MongoDB:"
   ]
  },
  {
   "cell_type": "markdown",
   "metadata": {},
   "source": [
    "`$eq` -- Matches values that are equal to a specified value. <br>\n",
    "`$gt` -- Matches values that are greater than a specified value. <br>\n",
    "`$gte` -- Matches values that are greater than or equal to a specified value. <br>\n",
    "`$in` -- Matches any of the values specified in an array. <br>\n",
    "`$lt` -- Matches values that are less than a specified value. <br>\n",
    "`$lte` -- Matches values that are less than or equal to a specified value. <br>\n",
    "`$ne` -- Matches all values that are not equal to a specified value. <br>\n",
    "`$nin` -- Matches none of the values specified in an array."
   ]
  },
  {
   "cell_type": "markdown",
   "metadata": {},
   "source": [
    "In addition to comparison query operators, we can use *logical* query operators in our filters as well."
   ]
  },
  {
   "cell_type": "markdown",
   "metadata": {},
   "source": [
    "- How many laureates died in Canada ***OR*** were born in France?"
   ]
  },
  {
   "cell_type": "code",
   "execution_count": 19,
   "metadata": {
    "tags": []
   },
   "outputs": [
    {
     "name": "stdout",
     "output_type": "stream",
     "text": [
      "59\n"
     ]
    }
   ],
   "source": [
    "#Save a filter for laureates who were born in Canada OR died in France.\n",
    "criteria = {\"$or\":[{\"diedCountry\": \"Canada\"}, {\"bornCountry\": \"France\"}]}\n",
    "\n",
    "# Count them and save the count.\n",
    "count = db.laureates.count_documents(criteria)\n",
    "print(count)"
   ]
  },
  {
   "cell_type": "markdown",
   "metadata": {},
   "source": [
    "Below is a list of *logical* query operators that are available in MongoDB:"
   ]
  },
  {
   "cell_type": "markdown",
   "metadata": {},
   "source": [
    "`$and` --\tJoins query clauses with a logical AND returns all documents that match the conditions of both clauses. <br>\n",
    "`$not` --\tInverts the effect of a query expression and returns documents that do not match the query expression. <br>\n",
    "`$nor` --\tJoins query clauses with a logical NOR returns all documents that fail to match both clauses. <br>\n",
    "`$or` --\tJoins query clauses with a logical OR returns all documents that match the conditions of either clause. "
   ]
  },
  {
   "cell_type": "markdown",
   "metadata": {},
   "source": [
    "See https://docs.mongodb.com/manual/reference/operator/query/ for more operators!"
   ]
  },
  {
   "cell_type": "markdown",
   "metadata": {},
   "source": [
    "### Using dot notation"
   ]
  },
  {
   "cell_type": "markdown",
   "metadata": {},
   "source": [
    "You will notice that the `prizes` field of a `laureates` document consists of an array of subdocuments:\n",
    "\n",
    "An example `laureates` document:\n",
    "\n",
    "```\n",
    "{'_id': ObjectId('5b9ac94ff35b63cf5231ccb1'),\n",
    " 'born': '1845-03-27',\n",
    " 'bornCity': 'Lennep (now Remscheid)',\n",
    " 'bornCountry': 'Prussia (now Germany)',\n",
    " 'bornCountryCode': 'DE',\n",
    " 'died': '1923-02-10',\n",
    " 'diedCity': 'Munich',\n",
    " 'diedCountry': 'Germany',\n",
    " 'diedCountryCode': 'DE',\n",
    " 'firstname': 'Wilhelm Conrad',\n",
    " 'gender': 'male',\n",
    " 'id': '1',\n",
    " 'prizes': [{'affiliations': [{'city': 'Munich',\n",
    "                               'country': 'Germany',\n",
    "                               'name': 'Munich University'}],\n",
    "             'category': 'physics',\n",
    "             'motivation': '\"in recognition of the extraordinary services '\n",
    "                           'he has rendered by the discovery of the '\n",
    "                           'remarkable rays subsequently named after him\"',\n",
    "             'share': '1',\n",
    "             'year': '1901'}],\n",
    " 'surname': 'Röntgen'}\n",
    "```"
   ]
  },
  {
   "cell_type": "markdown",
   "metadata": {},
   "source": [
    "An easy way to construct filters for array entries or subdocument fields is to use dot notation."
   ]
  },
  {
   "cell_type": "markdown",
   "metadata": {},
   "source": [
    "- Use the `$exists` operator to find out how many laureates were awarded at least two prizes? "
   ]
  },
  {
   "cell_type": "code",
   "execution_count": 20,
   "metadata": {
    "tags": []
   },
   "outputs": [
    {
     "name": "stdout",
     "output_type": "stream",
     "text": [
      "6\n"
     ]
    }
   ],
   "source": [
    "#Save a filter for laureates who were awarded at least two prizes. \n",
    "criteria = {\"prizes.1\":{\"$exists\": True}}\n",
    "\n",
    "# Count them and save the count.\n",
    "count = db.laureates.count_documents(criteria)\n",
    "print(count)"
   ]
  },
  {
   "cell_type": "markdown",
   "metadata": {},
   "source": [
    "- Estimate how many laureates were awarded at least two prizes in physics specifically? "
   ]
  },
  {
   "cell_type": "code",
   "execution_count": 21,
   "metadata": {
    "tags": []
   },
   "outputs": [
    {
     "name": "stdout",
     "output_type": "stream",
     "text": [
      "1\n"
     ]
    }
   ],
   "source": [
    "#Save a filter to estimate the number of laureates who were awarded at least two prizes in physics. \n",
    "criteria = {\"prizes.0.category\": \"physics\", \"prizes.1.category\": \"physics\"}\n",
    "\n",
    "# Count them and save the count.\n",
    "count = db.laureates.count_documents(criteria)\n",
    "print(count)"
   ]
  },
  {
   "cell_type": "code",
   "execution_count": 22,
   "metadata": {},
   "outputs": [
    {
     "data": {
      "text/plain": [
       "{'_id': ObjectId('5f1f4e418defad6d9f1cced5'),\n",
       " 'id': '66',\n",
       " 'firstname': 'John',\n",
       " 'surname': 'Bardeen',\n",
       " 'born': '1908-05-23',\n",
       " 'died': '1991-01-30',\n",
       " 'bornCountry': 'USA',\n",
       " 'bornCountryCode': 'US',\n",
       " 'bornCity': 'Madison, WI',\n",
       " 'diedCountry': 'USA',\n",
       " 'diedCountryCode': 'US',\n",
       " 'diedCity': 'Boston, MA',\n",
       " 'gender': 'male',\n",
       " 'prizes': [{'year': '1956',\n",
       "   'category': 'physics',\n",
       "   'share': '3',\n",
       "   'motivation': '\"for their researches on semiconductors and their discovery of the transistor effect\"',\n",
       "   'affiliations': [{'name': 'University of Illinois',\n",
       "     'city': 'Urbana, IL',\n",
       "     'country': 'USA'}]},\n",
       "  {'year': '1972',\n",
       "   'category': 'physics',\n",
       "   'share': '3',\n",
       "   'motivation': '\"for their jointly developed theory of superconductivity, usually called the BCS-theory\"',\n",
       "   'affiliations': [{'name': 'University of Illinois',\n",
       "     'city': 'Urbana, IL',\n",
       "     'country': 'USA'}]}]}"
      ]
     },
     "execution_count": 22,
     "metadata": {},
     "output_type": "execute_result"
    }
   ],
   "source": [
    "db.laureates.find_one(criteria)"
   ]
  }
 ],
 "metadata": {
  "kernelspec": {
   "display_name": "Python 3",
   "language": "python",
   "name": "python3"
  },
  "language_info": {
   "codemirror_mode": {
    "name": "ipython",
    "version": 3
   },
   "file_extension": ".py",
   "mimetype": "text/x-python",
   "name": "python",
   "nbconvert_exporter": "python",
   "pygments_lexer": "ipython3",
   "version": "3.8.3"
  }
 },
 "nbformat": 4,
 "nbformat_minor": 4
}
