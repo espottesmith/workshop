{
 "cells": [
  {
   "cell_type": "markdown",
   "metadata": {},
   "source": [
    "# Finding, and Dot Notation - Exercise"
   ]
  },
  {
   "cell_type": "markdown",
   "metadata": {},
   "source": [
    "## 1. Instantiate `MongoClient` and connect to the to the nobel database."
   ]
  },
  {
   "cell_type": "code",
   "execution_count": null,
   "metadata": {},
   "outputs": [],
   "source": [
    "from __ import __\n",
    "client = __"
   ]
  },
  {
   "cell_type": "code",
   "execution_count": null,
   "metadata": {
    "tags": []
   },
   "outputs": [],
   "source": [
    "db = __.__\n",
    "print(db)"
   ]
  },
  {
   "cell_type": "markdown",
   "metadata": {},
   "source": [
    "<br>\n",
    "\n",
    "## 2. Find the total number of laureates who died (`\"diedCountry\"`) in Canada and were not born (`\"bornCountry\"`) in Germany using the `$ne` operator."
   ]
  },
  {
   "cell_type": "code",
   "execution_count": null,
   "metadata": {},
   "outputs": [],
   "source": [
    "criteria = {__: __, __: {__: __}}\n",
    "\n",
    "count = db.laureates.count_documents(criteria)"
   ]
  },
  {
   "cell_type": "code",
   "execution_count": null,
   "metadata": {},
   "outputs": [],
   "source": [
    "count"
   ]
  },
  {
   "cell_type": "markdown",
   "metadata": {},
   "source": [
    "<br>\n",
    "\n",
    "## 3. Use the `$in` and `$gt` operators to count the total number of physics and chemistry prizes awarded after the year 1930. Recall the structure of a document in `prizes`:\n",
    "```\n",
    "{'_id': ObjectId('5f1746222466f220f494d00c'),\n",
    " 'year': '2019',\n",
    " 'category': 'chemistry',\n",
    " 'laureates': [{'id': '976',\n",
    "   'firstname': 'John',\n",
    "   'surname': 'Goodenough',\n",
    "   'motivation': '\"for the development of lithium-ion batteries\"',\n",
    "   'share': '3'},\n",
    "  {'id': '977',\n",
    "   'firstname': 'M. Stanley',\n",
    "   'surname': 'Whittingham',\n",
    "   'motivation': '\"for the development of lithium-ion batteries\"',\n",
    "   'share': '3'},\n",
    "  {'id': '978',\n",
    "   'firstname': 'Akira',\n",
    "   'surname': 'Yoshino',\n",
    "   'motivation': '\"for the development of lithium-ion batteries\"',\n",
    "   'share': '3'}]}\n",
    "```"
   ]
  },
  {
   "cell_type": "code",
   "execution_count": null,
   "metadata": {},
   "outputs": [],
   "source": [
    "criteria = {__: {__: [\"physics\", \"chemistry\"]}, \n",
    "            __:{__: \"1930\"}}\n",
    "\n",
    "count = db.prizes.count_documents(criteria)"
   ]
  },
  {
   "cell_type": "code",
   "execution_count": null,
   "metadata": {},
   "outputs": [],
   "source": [
    "count"
   ]
  },
  {
   "cell_type": "markdown",
   "metadata": {},
   "source": [
    "<br>\n",
    "\n",
    "## 4. Let's define \"high-share\" prizes as those shared by at ***least three*** people. Use dot notation and the `$exists` operator to find the number of \"high-share\" physics and chemistry prizes awarded after the year 2001. Remember arrays start with index `0`!"
   ]
  },
  {
   "cell_type": "code",
   "execution_count": null,
   "metadata": {},
   "outputs": [],
   "source": [
    "criteria = {__: {__: [\"physics\", \"chemistry\"]}, \n",
    "            __:{__: \"2001\"},\n",
    "            \"__.__\": {__: True}}\n",
    "\n",
    "count = db.prizes.count_documents(criteria)"
   ]
  },
  {
   "cell_type": "code",
   "execution_count": null,
   "metadata": {},
   "outputs": [],
   "source": [
    "count"
   ]
  },
  {
   "cell_type": "markdown",
   "metadata": {},
   "source": [
    "<br>\n",
    "\n",
    "## 5. Use the `$size` operator to find the total number of awarded peace prizes shared by ***exactly three*** people. "
   ]
  },
  {
   "cell_type": "code",
   "execution_count": null,
   "metadata": {},
   "outputs": [],
   "source": [
    "criteria = {__: __, \n",
    "            __: {__: 3}}\n",
    "\n",
    "count = db.prizes.count_documents(criteria)"
   ]
  },
  {
   "cell_type": "code",
   "execution_count": null,
   "metadata": {},
   "outputs": [],
   "source": [
    "count"
   ]
  },
  {
   "cell_type": "markdown",
   "metadata": {},
   "source": [
    "## 6. Estimate the number of laureates who were awarded a prize affiliated with the USA, but were born in a different country. Use only the first prize and affiliation in each respective array. Recall the structure of a document in `laureates`:\n",
    "\n",
    "```\n",
    "{'_id': ObjectId('5f1746222466f220f494d292'),\n",
    " 'id': '1',\n",
    " 'firstname': 'Wilhelm Conrad',\n",
    " 'surname': 'Röntgen',\n",
    " 'born': '1845-03-27',\n",
    " 'died': '1923-02-10',\n",
    " 'bornCountry': 'Prussia (now Germany)',\n",
    " 'bornCountryCode': 'DE',\n",
    " 'bornCity': 'Lennep (now Remscheid)',\n",
    " 'diedCountry': 'Germany',\n",
    " 'diedCountryCode': 'DE',\n",
    " 'diedCity': 'Munich',\n",
    " 'gender': 'male',\n",
    " 'prizes': [{'year': '1901',\n",
    "   'category': 'physics',\n",
    "   'share': '1',\n",
    "   'motivation': '\"in recognition of the extraordinary services he has rendered by the discovery of the remarkable rays subsequently named after him\"',\n",
    "   'affiliations': [{'name': 'Munich University',\n",
    "     'city': 'Munich',\n",
    "     'country': 'Germany'}]}]}\n",
    "```\n"
   ]
  },
  {
   "cell_type": "code",
   "execution_count": null,
   "metadata": {},
   "outputs": [],
   "source": [
    "criteria = {__: {__: \"USA\"}, \n",
    "            \"__.__.__.__.__\": \"USA\"}\n",
    "\n",
    "count = db.laureates.count_documents(criteria)"
   ]
  },
  {
   "cell_type": "code",
   "execution_count": null,
   "metadata": {},
   "outputs": [],
   "source": [
    "count"
   ]
  }
 ],
 "metadata": {
  "kernelspec": {
   "display_name": "Python 3",
   "language": "python",
   "name": "python3"
  },
  "language_info": {
   "codemirror_mode": {
    "name": "ipython",
    "version": 3
   },
   "file_extension": ".py",
   "mimetype": "text/x-python",
   "name": "python",
   "nbconvert_exporter": "python",
   "pygments_lexer": "ipython3",
   "version": "3.7.7-final"
  }
 },
 "nbformat": 4,
 "nbformat_minor": 4
}
