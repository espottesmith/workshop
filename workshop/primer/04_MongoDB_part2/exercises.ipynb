{
 "cells": [
  {
   "cell_type": "markdown",
   "metadata": {},
   "source": [
    "# MongoDB Part 2 Exercises"
   ]
  },
  {
   "cell_type": "markdown",
   "metadata": {},
   "source": [
    "## 1: Working with Distinct Values, $elemMatch, and Regex"
   ]
  },
  {
   "cell_type": "code",
   "execution_count": null,
   "metadata": {},
   "outputs": [],
   "source": [
    "from pymongo import MongoClient\n",
    "\n",
    "client = MongoClient()\n",
    "db = client.nobel"
   ]
  },
  {
   "cell_type": "markdown",
   "metadata": {},
   "source": [
    "### Never from there, but sometimes there at last"
   ]
  },
  {
   "cell_type": "markdown",
   "metadata": {},
   "source": [
    "There are some recorded countries of death (`\"diedCountry\"`) that do not appear as a country of birth (`\"bornCountry\"`) for laureates. One such country is \"East Germany\".\n",
    "\n",
    "- Return a set of all such countries as `countries`."
   ]
  },
  {
   "cell_type": "code",
   "execution_count": null,
   "metadata": {},
   "outputs": [],
   "source": [
    "# Countries recorded as countries of death but not as countries of birth\n",
    "countries = set(____) - set(____)\n",
    "print(countries)"
   ]
  },
  {
   "cell_type": "markdown",
   "metadata": {},
   "source": [
    "### Countries of affiliation"
   ]
  },
  {
   "cell_type": "markdown",
   "metadata": {},
   "source": [
    "We saw in the last exercise that countries can be associated with a laureate as their country of birth and as their country of death. For each prize a laureate received, they may also have been affiliated with an institution at the time, located in a country.\n",
    "\n",
    "- Determine the number of distinct countries recorded as part of an affiliation for laureates' prizes. Save this as `count`."
   ]
  },
  {
   "cell_type": "code",
   "execution_count": null,
   "metadata": {},
   "outputs": [],
   "source": [
    "# The number of distinct countries of laureate affiliation for prizes\n",
    "count = ____(db.laureates.____(____))\n",
    "print(count)"
   ]
  },
  {
   "cell_type": "markdown",
   "metadata": {},
   "source": [
    "### Triple plays (mostly) all around\n",
    "\n",
    "All prize categories but one – literature – have had prizes shared by three or more laureates.\n",
    "\n",
    "- Save a filter document `criteria` that, when passed to `db.prizes.distinct`, returns all prize categories shared by three or more laureates. That is, `\"laureates.2\"` must exist for such documents.\n",
    "- Save these prize categories as a Python `set` called `triple_play_categories`.\n",
    "- Confirm via an assertion that \"literature\" is the only prize category with no prizes shared by three or more laureates."
   ]
  },
  {
   "cell_type": "code",
   "execution_count": null,
   "metadata": {},
   "outputs": [],
   "source": [
    "# Save a filter for prize documents with three or more laureates\n",
    "criteria = {____: {____: ____}}\n",
    "\n",
    "# Save the set of distinct prize categories in documents satisfying the criteria\n",
    "triple_play_categories = ____(db.prizes.distinct(____, criteria))\n",
    "\n",
    "# Confirm literature as the only category not satisfying the criteria.\n",
    "assert set(db.prizes.distinct(____)) - triple_play_categories == {____}"
   ]
  },
  {
   "cell_type": "markdown",
   "metadata": {},
   "source": [
    "### Other sharing after World War II"
   ]
  },
  {
   "cell_type": "markdown",
   "metadata": {},
   "source": [
    "Similar to the example in the lesson, what is the approximate ratio of the number of laureates who won an *unshared* prize in categories other than physics, chemistry, and medicine after World War II to the number of laureates who won a *shared* prize in categories other than physics, chemistry, and medicine after World War II?\n",
    "\n",
    "- Save an `$elemMatch` filter `unshared` to count laureates with unshared prizes in categories other than (\"not in\") `[\"physics\", \"chemistry\", \"medicine\"]` in or after 1945.\n",
    "- Save an `$elemMatch` filter `shared` to count laureates with shared (i.e., \"share\" is not \"1\") prizes in categories other than `[\"physics\", \"chemistry\", \"medicine\"]` in or after 1945.\n",
    "\n"
   ]
  },
  {
   "cell_type": "code",
   "execution_count": null,
   "metadata": {},
   "outputs": [],
   "source": [
    "# Save a filter for laureates with unshared prizes\n",
    "unshared = {\n",
    "    \"prizes\": {____: {\n",
    "        ____: {____: [\"physics\", \"chemistry\", \"medicine\"]},\n",
    "        \"share\": \"1\",\n",
    "        \"year\": {____: \"1945\"},\n",
    "    }}}\n",
    "\n",
    "# Save a filter for laureates with shared prizes\n",
    "shared = {\n",
    "    \"prizes\": {____: {\n",
    "        ____: {____: [\"physics\", \"chemistry\", \"medicine\"]},\n",
    "        \"share\": {____: \"1\"},\n",
    "        \"year\": {____: \"1945\"},\n",
    "    }}}\n",
    "\n",
    "ratio = db.laureates.____(____) / db.laureates.____(____)\n",
    "print(ratio)"
   ]
  },
  {
   "cell_type": "markdown",
   "metadata": {},
   "source": [
    "### Organizations and prizes over time"
   ]
  },
  {
   "cell_type": "markdown",
   "metadata": {},
   "source": [
    "How many organizations won prizes before 1945 versus in or after 1945?"
   ]
  },
  {
   "cell_type": "markdown",
   "metadata": {},
   "source": [
    "- Save a filter `before` to count organization laureates with prizes won before 1945. Recall that organization status is encoded with the \"gender\" field, and that dot notation is needed to access a laureate's \"year\" field within its \"prizes\" array.\n",
    "- Save a filter `in_or_after` to count organization laureates with prizes won in or after 1945."
   ]
  },
  {
   "cell_type": "code",
   "execution_count": null,
   "metadata": {},
   "outputs": [],
   "source": [
    "# Save a filter for organization laureates with prizes won before 1945\n",
    "before = {\n",
    "    ____: ____,\n",
    "    ____: {____: \"1945\"},\n",
    "    }\n",
    "\n",
    "# Save a filter for organization laureates with prizes won in or after 1945\n",
    "in_or_after = {\n",
    "    ____: ____,\n",
    "    ____: {____: \"1945\"},\n",
    "    }\n",
    "\n",
    "n_before = db.laureates.count_documents(before)\n",
    "n_in_or_after = db.laureates.count_documents(in_or_after)\n",
    "ratio = n_in_or_after / (n_in_or_after + n_before)\n",
    "print(ratio)"
   ]
  },
  {
   "cell_type": "markdown",
   "metadata": {},
   "source": [
    "### Germany, then and now"
   ]
  },
  {
   "cell_type": "markdown",
   "metadata": {},
   "source": [
    "Just as we saw with Poland, there are laureates who were born somewhere that was in Germany at the time but is now not, and others born somewhere that was not in Germany at the time but now is."
   ]
  },
  {
   "cell_type": "markdown",
   "metadata": {},
   "source": [
    "- Use a regular expression object to filter for laureates with \"Germany\" in their \"bornCountry\" value."
   ]
  },
  {
   "cell_type": "code",
   "execution_count": null,
   "metadata": {},
   "outputs": [],
   "source": [
    "# Filter for laureates with \"Germany\" in their \"bornCountry\" value\n",
    "criteria = {\"bornCountry\": {\"$regex\": ____}}\n",
    "print(set(db.laureates.distinct(\"bornCountry\", criteria)))"
   ]
  },
  {
   "cell_type": "markdown",
   "metadata": {},
   "source": [
    "- Use a regular expression object to filter for laureates with a \"bornCountry\" value starting with \"Germany\"."
   ]
  },
  {
   "cell_type": "code",
   "execution_count": null,
   "metadata": {},
   "outputs": [],
   "source": [
    "# Filter for laureates with a \"bornCountry\" value starting with \"Germany\"\n",
    "criteria = {\"bornCountry\": {____:____}}\n",
    "print(set(db.laureates.distinct(\"bornCountry\", criteria)))"
   ]
  },
  {
   "cell_type": "markdown",
   "metadata": {},
   "source": [
    "- Use a regular expression object to filter for laureates born in what was at the time Germany but is now another country."
   ]
  },
  {
   "cell_type": "code",
   "execution_count": null,
   "metadata": {},
   "outputs": [],
   "source": [
    "# Fill in a string value to be sandwiched between the strings \"^\" and \"now\"\n",
    "criteria = {\"bornCountry\": {____:\"^\" + ____ + \"now\"}}\n",
    "print(set(db.laureates.distinct(\"bornCountry\", criteria)))"
   ]
  },
  {
   "cell_type": "markdown",
   "metadata": {},
   "source": [
    "- Use a regular expression object to filter for laureates born in what is now Germany but at the time was another country."
   ]
  },
  {
   "cell_type": "code",
   "execution_count": null,
   "metadata": {},
   "outputs": [],
   "source": [
    "# Filter for currently-Germany countries of birth.\n",
    "# Fill in a string value to be sandwiched between the strings \"now\" and \"$\"\n",
    "criteria = {\"bornCountry\": {____:\"now\" + ____ + \"$\"}}\n",
    "print(set(db.laureates.distinct(\"bornCountry\", criteria)))"
   ]
  },
  {
   "cell_type": "markdown",
   "metadata": {},
   "source": [
    "### The prized transistor"
   ]
  },
  {
   "cell_type": "markdown",
   "metadata": {},
   "source": [
    "Three people shared a Nobel prize \"for their researches on semiconductors and their discovery of the transistor effect\". We can filter on \"transistor\" as a substring of a laureate's \"prizes.motivation\" field value to find these laureates.\n",
    "\n",
    "- Save a filter `criteria` that finds laureates with `prizes.motivation` values containing \"transistor\" as a substring. The substring can appear anywhere within the value, so no anchoring characters are needed.\n",
    "- Save to `first` and `last` the field names corresponding to a laureate's first name and last name (i.e. \"surname\") so that we can print out the names of these laureates.\n",
    "\n"
   ]
  },
  {
   "cell_type": "code",
   "execution_count": null,
   "metadata": {},
   "outputs": [],
   "source": [
    "# Save a filter for laureates with prize motivation values containing \"transistor\" as a substring\n",
    "criteria = {____: {____:____}}\n",
    "\n",
    "# Save the field names corresponding to a laureate's first name and last name\n",
    "first, last = ____, ____\n",
    "print([(laureate[first], laureate[last]) for laureate in db.laureates.find(criteria)])"
   ]
  },
  {
   "cell_type": "markdown",
   "metadata": {},
   "source": [
    "## 2: Projection and Sorting"
   ]
  },
  {
   "cell_type": "markdown",
   "metadata": {},
   "source": [
    "### Rounding up the G.S. crew\n",
    "\n",
    "We can use the regular expression operator `$regex` to find laureates whose initials are G.S. Let's use projection and list comprehension to collect the full names of these laureates by concatenating their first (\"firstname\") and last (\"surname\") names.\n",
    "\n",
    "- Fill in the blanks to save a list `names` of full names (\"firstname\" plus \"surname\") of laureates with initials G.S. (ignoring middles names/initials). You'll need to both filter on names as well as project out the fields required to collect the full names.\n"
   ]
  },
  {
   "cell_type": "code",
   "execution_count": null,
   "metadata": {},
   "outputs": [],
   "source": [
    "# Collect a list of full names\n",
    "names = [\" \".join([doc[____], doc[____]])\n",
    "         for doc in db.laureates.find(\n",
    "             {____: {\"$regex\": \"^G\"},\n",
    "              ____: {\"$regex\": \"^S\"}},\n",
    "             {____: 1, ____: 1})]\n",
    "print(names)"
   ]
  },
  {
   "cell_type": "markdown",
   "metadata": {},
   "source": [
    "### Sorting together: MongoDB + Python\n",
    "\n",
    "You will print out the names of all physics laureates, with one line printed for each award year, in chronological order. Each line will list laureates for that year in alphabetical order by surname (\"last\" name).\n",
    "\n",
    "I encourage you to print intermediate results and understand the nested structure of prize documents."
   ]
  },
  {
   "cell_type": "markdown",
   "metadata": {},
   "source": [
    "- Construct a sort specification `sort_spec` to fetch physics prizes by ascending year."
   ]
  },
  {
   "cell_type": "code",
   "execution_count": null,
   "metadata": {},
   "outputs": [],
   "source": [
    "from operator import itemgetter\n",
    "\n",
    "# Sort by ascending year\n",
    "sort_spec = [(____, ____)]"
   ]
  },
  {
   "cell_type": "markdown",
   "metadata": {},
   "source": [
    "- Use `<collection>.find` to construct a `cursor` that fetches prizes with a \"category\" of \"physics\", sorts by ascending year, and projects the year and first laureate full name (`laureates.firstname` and `laureates.surname`). *You should encounter an error at year 1916*."
   ]
  },
  {
   "cell_type": "code",
   "execution_count": null,
   "metadata": {},
   "outputs": [],
   "source": [
    "# Construct a cursor over physics prizes\n",
    "cursor = db.prizes.____({____: ____}, \n",
    "                        {\"year\": 1, \"laureates.firstname\": 1, \"laureates.surname\": 1},\n",
    "                        sort=sort_spec)\n",
    "\n",
    "for doc in cursor:\n",
    "    print(\"{year}: {first_laureate_firstname} {first_laureate_surname}\".format(\n",
    "        year=doc[\"year\"],\n",
    "        first_laureate_firstname=doc[\"laureates\"][0][\"firstname\"],\n",
    "        first_laureate_surname=doc[\"laureates\"][0][\"surname\"]))\n",
    "cursor.rewind() # Rewind cursor to reuse in the next step"
   ]
  },
  {
   "cell_type": "markdown",
   "metadata": {},
   "source": [
    "- The error is caused by the fact that the Nobel Prize in physics was not awarded in 1916 due to World War I. Supplement the cursor's filter to avoid the error:"
   ]
  },
  {
   "cell_type": "code",
   "execution_count": null,
   "metadata": {},
   "outputs": [],
   "source": [
    "# Construct a fixed cursor over physics prizes\n",
    "cursor = db.prizes.____({____: ____, ____: {____:True}}, \n",
    "                        {\"year\": 1, \"laureates.firstname\": 1, \"laureates.surname\": 1},\n",
    "                        sort=sort_spec)\n",
    "\n",
    "for doc in cursor:\n",
    "    print(\"{year}: {first_laureate_firstname} {first_laureate_surname}\".format(\n",
    "        year=doc[\"year\"],\n",
    "        first_laureate_firstname=doc[\"laureates\"][0][\"firstname\"],\n",
    "        first_laureate_surname=doc[\"laureates\"][0][\"surname\"]))\n",
    "cursor.rewind() # Rewind cursor to reuse in the next step"
   ]
  },
  {
   "cell_type": "markdown",
   "metadata": {},
   "source": [
    "- Complete the definition of the function `names` so that, given a prize document, it returns a list of formatted names, sorted by ascending \"surname\", for each of the \"laureates\" in that prize document.\n",
    "\n"
   ]
  },
  {
   "cell_type": "code",
   "execution_count": null,
   "metadata": {},
   "outputs": [],
   "source": [
    "# Define a function names() to return a list of formatted names\n",
    "def names(doc):\n",
    "    formatted_names = [\"{firstname} {surname}\".format(**laureate)\n",
    "          for laureate in sorted(doc[____], key=itemgetter(____))]\n",
    "    return formatted_names\n",
    "\n",
    "lines = [\"{year}: {names}\".format(year=doc[\"year\"], names=\" and \".join(names(doc)))\n",
    "         for doc in cursor]\n",
    "for line in lines: print(line)"
   ]
  },
  {
   "cell_type": "markdown",
   "metadata": {},
   "source": [
    "### Gap years"
   ]
  },
  {
   "cell_type": "markdown",
   "metadata": {},
   "source": [
    "As we saw above, there have been years for which prizes in one or more of the original categories were not awarded.\n",
    "\n",
    "Sorting first by reverse chronological order and second by alphabetical order of category, collect and format prize documents to produce one formatted entry per year listing categories missing for that year."
   ]
  },
  {
   "cell_type": "markdown",
   "metadata": {},
   "source": [
    "- Construct a set `original_categories` of prize categories awarded in 1901."
   ]
  },
  {
   "cell_type": "code",
   "execution_count": null,
   "metadata": {},
   "outputs": [],
   "source": [
    "import itertools\n",
    "from operator import itemgetter\n",
    "\n",
    "# Save the set of prize categories awarded in 1901\n",
    "original_categories = set(db.prizes.____(\"category\", {____: \"1901\"}))\n",
    "print(original_categories)"
   ]
  },
  {
   "cell_type": "markdown",
   "metadata": {},
   "source": [
    "- Use `<collection>.find` to construct a cursor that yields prize documents only for categories in the list of original categories which contain the `laureates` key and thus were awarded, sorted first by decreasing year and second by increasing category.\n",
    "\n"
   ]
  },
  {
   "cell_type": "code",
   "execution_count": null,
   "metadata": {},
   "outputs": [],
   "source": [
    "# Construct a cursor over original-category prizes\n",
    "cursor = db.prizes.____({\"category\": {____: list(original_categories)}, ____: {____:____}},\n",
    "                        {\"category\": 1, \"year\": 1},\n",
    "                        sort=[(____, ____), (____, ____)])"
   ]
  },
  {
   "cell_type": "markdown",
   "metadata": {},
   "source": [
    "- Collect a list `not_awarded` of entries to be printed, one per line, that displays a year and the categories missing for that year. You will collect \"category\" values for each year and set-subtract them from the original categories.\n",
    "\n"
   ]
  },
  {
   "cell_type": "code",
   "execution_count": null,
   "metadata": {},
   "outputs": [],
   "source": [
    "# Collect entries for missing prize categories\n",
    "not_awarded = []\n",
    "for key, group in itertools.groupby(cursor, key=itemgetter(\"year\")):\n",
    "    year_categories = set(prize[____] for prize in group)\n",
    "    missing = \", \".join(sorted(____ - ____))\n",
    "    if missing: not_awarded.append(\"{}: {}\".format(key, missing))\n",
    "\n",
    "for line in not_awarded: print(line)"
   ]
  },
  {
   "cell_type": "markdown",
   "metadata": {},
   "source": [
    "## 3: Indexing"
   ]
  },
  {
   "cell_type": "markdown",
   "metadata": {},
   "source": [
    "### An index for high-share categories"
   ]
  },
  {
   "cell_type": "markdown",
   "metadata": {},
   "source": [
    "We want to speed up the following operation:\n",
    "```python\n",
    "db.prizes.distinct(\"category\", {\"laureates.share\": {\"$gt\": \"3\"}})\n",
    "```\n",
    "- Confirm that the operation takes approximately 1 ms without an index."
   ]
  },
  {
   "cell_type": "code",
   "execution_count": null,
   "metadata": {},
   "outputs": [],
   "source": [
    "\n"
   ]
  },
  {
   "cell_type": "markdown",
   "metadata": {},
   "source": [
    "- Specify a compound index model `index_model` to pass to `db.prizes.create_index`."
   ]
  },
  {
   "cell_type": "code",
   "execution_count": null,
   "metadata": {},
   "outputs": [],
   "source": [
    "index_model = [(____,____), (____,____)]\n",
    "db.prizes.create_index(index_model)"
   ]
  },
  {
   "cell_type": "markdown",
   "metadata": {},
   "source": [
    "- Confirm that the execution time is now below 400 µs."
   ]
  },
  {
   "cell_type": "code",
   "execution_count": null,
   "metadata": {},
   "outputs": [],
   "source": [
    "\n"
   ]
  },
  {
   "cell_type": "code",
   "execution_count": null,
   "metadata": {},
   "outputs": [],
   "source": [
    "# Drop the index for consistency\n",
    "db.prizes.drop_index(index_model)"
   ]
  },
  {
   "cell_type": "markdown",
   "metadata": {},
   "source": [
    "### Recently single?\n",
    "\n",
    "A prize might be awarded to a single laureate or to several. For each prize category, report the most recent year that a single laureate -- rather than several -- received a prize in that category.\n",
    "\n",
    "- Specify an index model `index_model` to pass to `db.prizes.create_index` that speeds up finding prizes by category and sorting results by decreasing year. That is, the model should index first on category (ascending) and second on year (descending).\n",
    "- Save a string `report` for printing the last single-laureate year for each distinct category, one category per line. To do this, for each distinct prize category, find the latest-year prize of that category with a laureate share of \"1\"."
   ]
  },
  {
   "cell_type": "code",
   "execution_count": null,
   "metadata": {},
   "outputs": [],
   "source": [
    "# Specify an index model for compound sorting\n",
    "index_model = [(____, 1), (____, -1)]\n",
    "db.prizes.create_index(index_model)\n",
    "\n",
    "# Collect the last single-laureate year for each category\n",
    "report = \"\"\n",
    "for category in sorted(db.prizes.____(\"category\")):\n",
    "    doc = db.prizes.find_one(\n",
    "        {____: ____, \"laureates.share\": \"1\"},\n",
    "        sort=[(____, ____)]\n",
    "    )\n",
    "    report += \"{category}: {year}\\n\".format(**doc)\n",
    "\n",
    "print(report)\n",
    "\n",
    "# Drop the index for consistency\n",
    "db.prizes.drop_index(index_model)"
   ]
  },
  {
   "cell_type": "markdown",
   "metadata": {},
   "source": [
    "### Born and affiliated\n",
    "\n",
    "Some countries are, for one or more laureates, both their country of birth (\"bornCountry\") and a country of affiliation for one or more of their prizes (\"prizes.affiliations.country\"). You will find the five countries of birth with the highest counts of such laureates.\n",
    "\n",
    "- Create an index on country of birth (\"bornCountry\") for `db.laureates` to ensure efficient gathering of distinct values and counting of documents\n",
    "- Complete the skeleton dictionary comprehension to construct `n_born_and_affiliated`, the count of laureates as described above for each distinct country of birth.\n"
   ]
  },
  {
   "cell_type": "code",
   "execution_count": null,
   "metadata": {},
   "outputs": [],
   "source": [
    "from collections import Counter\n",
    "\n",
    "# Ensure an index on country of birth\n",
    "db.laureates.create_index([(____, 1)])\n",
    "\n",
    "# Collect a count of laureates for each country of birth\n",
    "n_born_and_affiliated = {\n",
    "    country: db.laureates.count_documents({\n",
    "        ____: ____,\n",
    "        \"prizes.affiliations.country\": ____\n",
    "    })\n",
    "    for ____ in db.laureates.distinct(\"bornCountry\")\n",
    "}\n",
    "\n",
    "five_most_common = Counter(n_born_and_affiliated).most_common(5)\n",
    "print(five_most_common)\n",
    "\n",
    "# Drop the index for consistency\n",
    "db.laureates.drop_index([(____, 1)])"
   ]
  }
 ],
 "metadata": {
  "kernelspec": {
   "display_name": "Python 3",
   "language": "python",
   "name": "python3"
  },
  "language_info": {
   "codemirror_mode": {
    "name": "ipython",
    "version": 3
   },
   "file_extension": ".py",
   "mimetype": "text/x-python",
   "name": "python",
   "nbconvert_exporter": "python",
   "pygments_lexer": "ipython3",
   "version": "3.7.3"
  }
 },
 "nbformat": 4,
 "nbformat_minor": 2
}
