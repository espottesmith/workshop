{
 "cells": [
  {
   "cell_type": "markdown",
   "metadata": {},
   "source": [
    "# MongoDB Part 2"
   ]
  },
  {
   "cell_type": "markdown",
   "metadata": {},
   "source": [
    "## 1: Working with Distinct Values, $elemMatch, and Regex"
   ]
  },
  {
   "cell_type": "markdown",
   "metadata": {},
   "source": [
    "### An exceptional laureate"
   ]
  },
  {
   "cell_type": "code",
   "execution_count": 1,
   "metadata": {},
   "outputs": [],
   "source": [
    "from pymongo import MongoClient\n",
    "\n",
    "client = MongoClient()\n",
    "db = client.nobel"
   ]
  },
  {
   "cell_type": "code",
   "execution_count": 2,
   "metadata": {},
   "outputs": [
    {
     "data": {
      "text/plain": [
       "{'_id': ObjectId('5f1f4e418defad6d9f1cd070'),\n",
       " 'id': '482',\n",
       " 'firstname': 'International Committee of the Red Cross',\n",
       " 'born': '1863-00-00',\n",
       " 'died': '0000-00-00',\n",
       " 'gender': 'org',\n",
       " 'prizes': [{'year': '1917',\n",
       "   'category': 'peace',\n",
       "   'share': '1',\n",
       "   'motivation': '\"for the efforts to take care of wounded soldiers and prisoners of war and their families\"',\n",
       "   'affiliations': [[]]},\n",
       "  {'year': '1944',\n",
       "   'category': 'peace',\n",
       "   'share': '1',\n",
       "   'motivation': '\"for the great work it has performed during the war on behalf of humanity\"',\n",
       "   'affiliations': [[]]},\n",
       "  {'year': '1963',\n",
       "   'category': 'peace',\n",
       "   'share': '2',\n",
       "   'motivation': '\"for promoting the principles of the Geneva Convention and cooperation with the UN\"',\n",
       "   'affiliations': [[]]}]}"
      ]
     },
     "execution_count": 2,
     "metadata": {},
     "output_type": "execute_result"
    }
   ],
   "source": [
    "db.laureates.find_one({\"prizes.2\": {\"$exists\": True}})"
   ]
  },
  {
   "cell_type": "markdown",
   "metadata": {},
   "source": [
    "### Using .distinct()"
   ]
  },
  {
   "cell_type": "code",
   "execution_count": 3,
   "metadata": {},
   "outputs": [
    {
     "data": {
      "text/plain": [
       "['female', 'male', 'org']"
      ]
     },
     "execution_count": 3,
     "metadata": {},
     "output_type": "execute_result"
    }
   ],
   "source": [
    "db.laureates.distinct(\"gender\")"
   ]
  },
  {
   "cell_type": "markdown",
   "metadata": {},
   "source": [
    "\n",
    "- A convenience method for a common aggregation (like `count_documents`)\n",
    "- We will not cover custom aggregations in this lesson, but the `aggregate` method is powerful.\n",
    "- `distinct` aggregation is efficient if there is a collection *index* on the field\n",
    "- We will learn how to create an index later in this lesson\n",
    "- No index needed here: collection fits in memory, has ≲ 1,000 documents"
   ]
  },
  {
   "cell_type": "markdown",
   "metadata": {},
   "source": [
    "### All prize categories vs those with multi-winners"
   ]
  },
  {
   "cell_type": "code",
   "execution_count": 4,
   "metadata": {},
   "outputs": [
    {
     "data": {
      "text/plain": [
       "['chemistry', 'economics', 'literature', 'medicine', 'peace', 'physics']"
      ]
     },
     "execution_count": 4,
     "metadata": {},
     "output_type": "execute_result"
    }
   ],
   "source": [
    "db.laureates.distinct(\"prizes.category\")"
   ]
  },
  {
   "cell_type": "code",
   "execution_count": 5,
   "metadata": {},
   "outputs": [
    {
     "data": {
      "text/plain": [
       "['chemistry', 'peace', 'physics']"
      ]
     },
     "execution_count": 5,
     "metadata": {},
     "output_type": "execute_result"
    }
   ],
   "source": [
    "db.laureates.distinct(\"prizes.category\",{\"prizes.1\": {\"$exists\": True}})"
   ]
  },
  {
   "cell_type": "markdown",
   "metadata": {},
   "source": [
    "### Distinct example: Born here, went there\n",
    "\n",
    "In which countries have USA-born laureates had affiliations for their prizes?"
   ]
  },
  {
   "cell_type": "code",
   "execution_count": 6,
   "metadata": {},
   "outputs": [
    {
     "data": {
      "text/plain": [
       "['Australia', 'Denmark', 'USA', 'United Kingdom']"
      ]
     },
     "execution_count": 6,
     "metadata": {},
     "output_type": "execute_result"
    }
   ],
   "source": [
    "db.laureates.distinct(\"prizes.affiliations.country\",{\"bornCountry\":\"USA\"})"
   ]
  },
  {
   "cell_type": "markdown",
   "metadata": {},
   "source": [
    "### Enter $elemMatch"
   ]
  },
  {
   "cell_type": "code",
   "execution_count": 7,
   "metadata": {},
   "outputs": [
    {
     "data": {
      "text/plain": [
       "0"
      ]
     },
     "execution_count": 7,
     "metadata": {},
     "output_type": "execute_result"
    }
   ],
   "source": [
    "db.laureates.count_documents({\n",
    "    \"prizes\": {\n",
    "        \"category\": \"physics\",\n",
    "        \"share\": \"1\"\n",
    "    }\n",
    "})"
   ]
  },
  {
   "cell_type": "markdown",
   "metadata": {},
   "source": [
    "Why is the above number zero?"
   ]
  },
  {
   "cell_type": "code",
   "execution_count": 8,
   "metadata": {},
   "outputs": [
    {
     "data": {
      "text/plain": [
       "48"
      ]
     },
     "execution_count": 8,
     "metadata": {},
     "output_type": "execute_result"
    }
   ],
   "source": [
    "db.laureates.count_documents({\n",
    "    \"prizes.category\": \"physics\",\n",
    "    \"prizes.share\": \"1\"\n",
    "})"
   ]
  },
  {
   "cell_type": "code",
   "execution_count": 9,
   "metadata": {},
   "outputs": [
    {
     "data": {
      "text/plain": [
       "47"
      ]
     },
     "execution_count": 9,
     "metadata": {},
     "output_type": "execute_result"
    }
   ],
   "source": [
    "db.laureates.count_documents({\n",
    "    \"prizes\": {\n",
    "        \"$elemMatch\": {\n",
    "            \"category\": \"physics\",\n",
    "            \"share\": \"1\"\n",
    "        }\n",
    "    }\n",
    "})"
   ]
  },
  {
   "cell_type": "markdown",
   "metadata": {},
   "source": [
    "Why are these numbers different?"
   ]
  },
  {
   "cell_type": "code",
   "execution_count": 10,
   "metadata": {},
   "outputs": [
    {
     "data": {
      "text/plain": [
       "{'_id': ObjectId('5f1f4e418defad6d9f1cce9a'),\n",
       " 'id': '6',\n",
       " 'firstname': 'Marie',\n",
       " 'surname': 'Curie',\n",
       " 'born': '1867-11-07',\n",
       " 'died': '1934-07-04',\n",
       " 'bornCountry': 'Russian Empire (now Poland)',\n",
       " 'bornCountryCode': 'PL',\n",
       " 'bornCity': 'Warsaw',\n",
       " 'diedCountry': 'France',\n",
       " 'diedCountryCode': 'FR',\n",
       " 'diedCity': 'Sallanches',\n",
       " 'gender': 'female',\n",
       " 'prizes': [{'year': '1903',\n",
       "   'category': 'physics',\n",
       "   'share': '4',\n",
       "   'motivation': '\"in recognition of the extraordinary services they have rendered by their joint researches on the radiation phenomena discovered by Professor Henri Becquerel\"',\n",
       "   'affiliations': [[]]},\n",
       "  {'year': '1911',\n",
       "   'category': 'chemistry',\n",
       "   'share': '1',\n",
       "   'motivation': '\"in recognition of her services to the advancement of chemistry by the discovery of the elements radium and polonium, by the isolation of radium and the study of the nature and compounds of this remarkable element\"',\n",
       "   'affiliations': [{'name': 'Sorbonne University',\n",
       "     'city': 'Paris',\n",
       "     'country': 'France'}]}]}"
      ]
     },
     "execution_count": 10,
     "metadata": {},
     "output_type": "execute_result"
    }
   ],
   "source": [
    "db.laureates.find_one({\"firstname\": \"Marie\"})"
   ]
  },
  {
   "cell_type": "markdown",
   "metadata": {},
   "source": [
    "### $elemMatch example: Sharing in physics after World War II\n",
    "\n",
    "What is the approximate ratio of the number of laureates who won an *unshared*, i.e.\n",
    "\n",
    "    {\"share\": \"1\"}\n",
    "\n",
    ", prize in physics after World War II, i.e.\n",
    "\n",
    "    {\"year\": {\"$gte\": \"1945\"}}\n",
    "\n",
    ", to the number of laureates who won a *shared* prize in physics after World War II?"
   ]
  },
  {
   "cell_type": "code",
   "execution_count": 11,
   "metadata": {},
   "outputs": [
    {
     "name": "stdout",
     "output_type": "stream",
     "text": [
      "0.1232876712328767\n"
     ]
    }
   ],
   "source": [
    "# Save a filter for laureates with unshared prizes\n",
    "unshared = {\n",
    "    \"prizes\": {\"$elemMatch\": {\n",
    "        \"category\": \"physics\",\n",
    "        \"share\": \"1\",\n",
    "        \"year\": {\"$gte\": \"1945\"},\n",
    "    }}}\n",
    "\n",
    "# Save a filter for laureates with shared prizes\n",
    "shared = {\n",
    "    \"prizes\": {\"$elemMatch\": {\n",
    "        \"category\": \"physics\",\n",
    "        \"share\": {\"$gt\": \"1\"},\n",
    "        \"year\": {\"$gte\": \"1945\"},\n",
    "    }}}\n",
    "\n",
    "ratio = db.laureates.count_documents(unshared) / db.laureates.count_documents(shared)\n",
    "print(ratio)"
   ]
  },
  {
   "cell_type": "markdown",
   "metadata": {},
   "source": [
    "### Finding a substring with $regex"
   ]
  },
  {
   "cell_type": "code",
   "execution_count": 12,
   "metadata": {},
   "outputs": [
    {
     "data": {
      "text/plain": [
       "['Austria-Hungary (now Poland)',\n",
       " 'Free City of Danzig (now Poland)',\n",
       " 'German-occupied Poland (now Poland)',\n",
       " 'Germany (now Poland)',\n",
       " 'Poland',\n",
       " 'Poland (now Belarus)',\n",
       " 'Poland (now Lithuania)',\n",
       " 'Poland (now Ukraine)',\n",
       " 'Prussia (now Poland)',\n",
       " 'Russian Empire (now Poland)']"
      ]
     },
     "execution_count": 12,
     "metadata": {},
     "output_type": "execute_result"
    }
   ],
   "source": [
    "db.laureates.distinct(\n",
    "    \"bornCountry\",\n",
    "    {\"bornCountry\": {\"$regex\": \"Poland\"}})"
   ]
  },
  {
   "cell_type": "markdown",
   "metadata": {},
   "source": [
    "### Beginning and ending"
   ]
  },
  {
   "cell_type": "code",
   "execution_count": 13,
   "metadata": {},
   "outputs": [
    {
     "data": {
      "text/plain": [
       "['Poland',\n",
       " 'Poland (now Belarus)',\n",
       " 'Poland (now Lithuania)',\n",
       " 'Poland (now Ukraine)']"
      ]
     },
     "execution_count": 13,
     "metadata": {},
     "output_type": "execute_result"
    }
   ],
   "source": [
    "db.laureates.distinct(\n",
    "    \"bornCountry\", \n",
    "     {\"bornCountry\": {\"$regex\":\"^Poland\"}})"
   ]
  },
  {
   "cell_type": "code",
   "execution_count": 14,
   "metadata": {},
   "outputs": [
    {
     "data": {
      "text/plain": [
       "['Poland (now Belarus)', 'Poland (now Lithuania)', 'Poland (now Ukraine)']"
      ]
     },
     "execution_count": 14,
     "metadata": {},
     "output_type": "execute_result"
    }
   ],
   "source": [
    "db.laureates.distinct(\n",
    "    \"bornCountry\", \n",
    "     {\"bornCountry\": {\"$regex\":\"^Poland \\(now\"}})"
   ]
  },
  {
   "cell_type": "code",
   "execution_count": 15,
   "metadata": {},
   "outputs": [
    {
     "data": {
      "text/plain": [
       "['Austria-Hungary (now Poland)',\n",
       " 'Free City of Danzig (now Poland)',\n",
       " 'German-occupied Poland (now Poland)',\n",
       " 'Germany (now Poland)',\n",
       " 'Prussia (now Poland)',\n",
       " 'Russian Empire (now Poland)']"
      ]
     },
     "execution_count": 15,
     "metadata": {},
     "output_type": "execute_result"
    }
   ],
   "source": [
    "db.laureates.distinct(\n",
    "    \"bornCountry\", \n",
    "     {\"bornCountry\": {\"$regex\":\"now Poland\\)$\"}})"
   ]
  },
  {
   "cell_type": "markdown",
   "metadata": {},
   "source": [
    "### Regex example: Glenn, George, and others in the G.S. crew"
   ]
  },
  {
   "cell_type": "markdown",
   "metadata": {},
   "source": [
    "There are two laureates with Berkeley, California as a prize affiliation city that have the initials G.S. - Glenn Seaborg and George Smoot.\n",
    "\n",
    "How many laureates in total have a first name beginning with \"G\" and a surname beginning with \"S\"?"
   ]
  },
  {
   "cell_type": "code",
   "execution_count": 16,
   "metadata": {},
   "outputs": [
    {
     "data": {
      "text/plain": [
       "10"
      ]
     },
     "execution_count": 16,
     "metadata": {},
     "output_type": "execute_result"
    }
   ],
   "source": [
    "db.laureates.count_documents({\"firstname\": {\"$regex\":\"^G\"}, \"surname\": {\"$regex\":\"^S\"}})"
   ]
  },
  {
   "cell_type": "markdown",
   "metadata": {},
   "source": [
    "## 2: Projection and Sorting"
   ]
  },
  {
   "cell_type": "markdown",
   "metadata": {},
   "source": [
    "### What is \"projection\"?\n",
    "\n",
    "- reducing data to fewer dimensions\n",
    "- Asking certain data to \"speak up\"!"
   ]
  },
  {
   "cell_type": "markdown",
   "metadata": {},
   "source": [
    "![](assets/map-projections.jpg)"
   ]
  },
  {
   "cell_type": "markdown",
   "metadata": {},
   "source": [
    "### Projection in MongoDB"
   ]
  },
  {
   "cell_type": "markdown",
   "metadata": {},
   "source": [
    "When using `db.collection.find()`, the first argument is the filter and the second is the projection."
   ]
  },
  {
   "cell_type": "code",
   "execution_count": 17,
   "metadata": {},
   "outputs": [
    {
     "data": {
      "text/plain": [
       "<pymongo.cursor.Cursor at 0x7f8360632850>"
      ]
     },
     "execution_count": 17,
     "metadata": {},
     "output_type": "execute_result"
    }
   ],
   "source": [
    "db.laureates.find({}, {})"
   ]
  },
  {
   "cell_type": "markdown",
   "metadata": {},
   "source": [
    "Since `db.collection.find()` returns a cursor, we need to make it into a list:"
   ]
  },
  {
   "cell_type": "code",
   "execution_count": 18,
   "metadata": {},
   "outputs": [
    {
     "data": {
      "text/plain": [
       "[{'_id': ObjectId('5f1f4e418defad6d9f1cce95')},\n",
       " {'_id': ObjectId('5f1f4e418defad6d9f1cce96')},\n",
       " {'_id': ObjectId('5f1f4e418defad6d9f1cce97')}]"
      ]
     },
     "execution_count": 18,
     "metadata": {},
     "output_type": "execute_result"
    }
   ],
   "source": [
    "list(db.laureates.find({},{}))[:3]"
   ]
  },
  {
   "cell_type": "markdown",
   "metadata": {},
   "source": [
    "An empty projection dictionary by default only displays the entry `\"_id\"` field. To project out the prizes.affiliation field without the `\"_id\"` field, we would use a projection equal to `{\"prizes.affiliations\": 1, \"_id\": 0}`."
   ]
  },
  {
   "cell_type": "code",
   "execution_count": 19,
   "metadata": {},
   "outputs": [
    {
     "data": {
      "text/plain": [
       "[{'prizes': [{'affiliations': [{'name': 'Munich University',\n",
       "      'city': 'Munich',\n",
       "      'country': 'Germany'}]}]},\n",
       " {'prizes': [{'affiliations': [{'name': 'Leiden University',\n",
       "      'city': 'Leiden',\n",
       "      'country': 'the Netherlands'}]}]},\n",
       " {'prizes': [{'affiliations': [{'name': 'Amsterdam University',\n",
       "      'city': 'Amsterdam',\n",
       "      'country': 'the Netherlands'}]}]}]"
      ]
     },
     "execution_count": 19,
     "metadata": {},
     "output_type": "execute_result"
    }
   ],
   "source": [
    "list(db.laureates.find({},{\"prizes.affiliations\": 1, \"_id\": 0}))[:3]"
   ]
  },
  {
   "cell_type": "markdown",
   "metadata": {},
   "source": [
    "where the `1` value turns on `\"prizes.affiliations\"` and the `0` value turns off `\"_id\"`."
   ]
  },
  {
   "cell_type": "markdown",
   "metadata": {},
   "source": [
    "### Missing fields"
   ]
  },
  {
   "cell_type": "code",
   "execution_count": 20,
   "metadata": {},
   "outputs": [
    {
     "data": {
      "text/plain": [
       "[{'firstname': 'Institute of International Law', 'born': '1873-00-00'},\n",
       " {'firstname': 'Permanent International Peace Bureau', 'born': '1891-00-00'},\n",
       " {'firstname': 'International Committee of the Red Cross',\n",
       "  'born': '1863-00-00'},\n",
       " {'firstname': 'Nansen International Office for Refugees',\n",
       "  'born': '1921-00-00'},\n",
       " {'firstname': 'Friends Service Council', 'born': '1647-00-00'},\n",
       " {'firstname': 'American Friends Service Committee', 'born': '1917-00-00'},\n",
       " {'firstname': 'Office of the United Nations High Commissioner for Refugees',\n",
       "  'born': '1951-00-00'},\n",
       " {'firstname': 'League of Red Cross Societies', 'born': '1919-00-00'},\n",
       " {'firstname': \"United Nations Children's Fund\", 'born': '1946-00-00'},\n",
       " {'firstname': 'International Labour Organization', 'born': '1919-00-00'},\n",
       " {'firstname': 'Amnesty International', 'born': '1961-00-00'},\n",
       " {'firstname': 'International Physicians for the Prevention of Nuclear War',\n",
       "  'born': '1980-00-00'},\n",
       " {'firstname': 'United Nations Peacekeeping Forces', 'born': '1948-00-00'},\n",
       " {'firstname': 'Pugwash Conferences on Science and World Affairs',\n",
       "  'born': '1957-00-00'},\n",
       " {'firstname': 'International Campaign to Ban Landmines',\n",
       "  'born': '1992-00-00'},\n",
       " {'firstname': 'Médecins Sans Frontières', 'born': '1971-00-00'},\n",
       " {'firstname': 'United Nations', 'born': '1945-00-00'},\n",
       " {'firstname': 'International Atomic Energy Agency', 'born': '1957-00-00'},\n",
       " {'firstname': 'Grameen Bank', 'born': '1976-00-00'},\n",
       " {'firstname': 'Intergovernmental Panel on Climate Change',\n",
       "  'born': '1988-00-00'},\n",
       " {'firstname': 'European Union (EU)', 'born': '1952-00-00'},\n",
       " {'firstname': 'Organisation for the Prohibition of Chemical Weapons',\n",
       "  'born': '1997-00-00'},\n",
       " {'firstname': 'National Dialogue Quartet '},\n",
       " {'firstname': 'International Campaign to Abolish Nuclear Weapons (ICAN)',\n",
       "  'born': '2007-00-00'}]"
      ]
     },
     "execution_count": 20,
     "metadata": {},
     "output_type": "execute_result"
    }
   ],
   "source": [
    "list(db.laureates.find({\"gender\": \"org\"}, {\"firstname\": 1, \"born\": 1, \"_id\": 0}))"
   ]
  },
  {
   "cell_type": "markdown",
   "metadata": {},
   "source": [
    "### Projection example: Shares of the 1963 prize in physics\n",
    "\n",
    "Let's examine the laureates of the 1963 prize in physics and how they split the prize. Here is a query without projection:\n",
    "\n",
    "```python\n",
    "db.laureates.find({\"prizes\": {\"$elemMatch\": {\"category\": \"physics\", \"year\": \"1963\"}}})\n",
    "```\n",
    "\n",
    "How would we fetch the laureates' full names and prize share info?"
   ]
  },
  {
   "cell_type": "code",
   "execution_count": 21,
   "metadata": {},
   "outputs": [
    {
     "data": {
      "text/plain": [
       "[{'firstname': 'Eugene', 'surname': 'Wigner', 'prizes': [{'share': '2'}]},\n",
       " {'firstname': 'Maria',\n",
       "  'surname': 'Goeppert Mayer',\n",
       "  'prizes': [{'share': '4'}]},\n",
       " {'firstname': 'J. Hans D.', 'surname': 'Jensen', 'prizes': [{'share': '4'}]}]"
      ]
     },
     "execution_count": 21,
     "metadata": {},
     "output_type": "execute_result"
    }
   ],
   "source": [
    "projection = {\"firstname\": 1, \"surname\": 1, \"prizes.share\": 1, \"_id\": 0}\n",
    "\n",
    "list(db.laureates.find({\"prizes\": {\"$elemMatch\": {\"category\": \"physics\", \"year\": \"1963\"}}}, projection))"
   ]
  },
  {
   "cell_type": "markdown",
   "metadata": {},
   "source": [
    "### Sorting post-query with Python"
   ]
  },
  {
   "cell_type": "code",
   "execution_count": 22,
   "metadata": {},
   "outputs": [
    {
     "name": "stdout",
     "output_type": "stream",
     "text": [
      "['1901', '1902', '1903', '1904', '1905']\n"
     ]
    }
   ],
   "source": [
    "from operator import itemgetter\n",
    "\n",
    "docs = list(db.prizes.find({\"category\": \"physics\"},\n",
    "                           {\"year\": 1}))\n",
    "\n",
    "docs = sorted(docs, key=itemgetter(\"year\"))\n",
    "\n",
    "print([doc[\"year\"] for doc in docs][:5])"
   ]
  },
  {
   "cell_type": "code",
   "execution_count": 23,
   "metadata": {},
   "outputs": [
    {
     "name": "stdout",
     "output_type": "stream",
     "text": [
      "['2019', '2018', '2017', '2016', '2015']\n"
     ]
    }
   ],
   "source": [
    "docs = sorted(docs, key=itemgetter(\"year\"), reverse=True)\n",
    "\n",
    "print([doc[\"year\"] for doc in docs][:5])"
   ]
  },
  {
   "cell_type": "markdown",
   "metadata": {},
   "source": [
    "### Sorting in-query with MongoDB"
   ]
  },
  {
   "cell_type": "code",
   "execution_count": 24,
   "metadata": {},
   "outputs": [
    {
     "name": "stdout",
     "output_type": "stream",
     "text": [
      "['1901', '1902', '1903', '1904', '1905']\n"
     ]
    }
   ],
   "source": [
    "cursor = db.prizes.find({\"category\": \"physics\"},\n",
    "                        {\"year\": 1},\n",
    "                        sort=[(\"year\", 1)])\n",
    "\n",
    "print([doc[\"year\"] for doc in cursor][:5])"
   ]
  },
  {
   "cell_type": "code",
   "execution_count": 25,
   "metadata": {},
   "outputs": [
    {
     "name": "stdout",
     "output_type": "stream",
     "text": [
      "['2019', '2018', '2017', '2016', '2015']\n"
     ]
    }
   ],
   "source": [
    "cursor = db.prizes.find({\"category\": \"physics\"},\n",
    "                        {\"year\": 1},\n",
    "                        sort=[(\"year\", -1)])\n",
    "\n",
    "print([doc[\"year\"] for doc in cursor][:5])"
   ]
  },
  {
   "cell_type": "markdown",
   "metadata": {},
   "source": [
    "### Primary and secondary sorting"
   ]
  },
  {
   "cell_type": "code",
   "execution_count": 26,
   "metadata": {},
   "outputs": [
    {
     "name": "stdout",
     "output_type": "stream",
     "text": [
      "1967 physics\n",
      "1967 peace\n",
      "1967 medicine\n",
      "1967 literature\n",
      "1967 chemistry\n",
      "1968 physics\n",
      "1968 peace\n",
      "1968 medicine\n",
      "1968 literature\n",
      "1968 chemistry\n",
      "1969 physics\n",
      "1969 peace\n",
      "1969 medicine\n",
      "1969 literature\n",
      "1969 economics\n",
      "1969 chemistry\n"
     ]
    }
   ],
   "source": [
    "for doc in db.prizes.find(\n",
    "        {\"year\": {\"$gt\": \"1966\", \"$lt\": \"1970\"}},\n",
    "        {\"category\": 1, \"year\": 1, \"_id\": 0},\n",
    "        sort=[(\"year\", 1), (\"category\", -1)]):\n",
    "    print(doc[\"year\"],doc[\"category\"])"
   ]
  },
  {
   "cell_type": "markdown",
   "metadata": {},
   "source": [
    "### Sorting example: What the sort?\n",
    "\n",
    "This block prints out the first five projections of a sorted query. What \"sort\" argument fills the blank?\n",
    "\n",
    "```python\n",
    "docs = list(db.laureates.find(\n",
    "    {\"born\": {\"$gte\": \"1900\"}, \"prizes.year\": {\"$gte\": \"1954\"}, \"gender\":{\"$in\":[\"male\",\"female\"]}},\n",
    "    {\"born\": 1, \"prizes.year\": 1, \"_id\": 0},\n",
    "    sort = ____))\n",
    "for doc in docs[:5]:\n",
    "    print(doc)\n",
    "```\n",
    "```\n",
    "{'born': '1916-08-25', 'prizes': [{'year': '1954'}]}\n",
    "{'born': '1915-06-15', 'prizes': [{'year': '1954'}]}\n",
    "{'born': '1901-02-28', 'prizes': [{'year': '1954'}, {'year': '1962'}]}\n",
    "{'born': '1913-07-12', 'prizes': [{'year': '1955'}]}\n",
    "{'born': '1911-01-26', 'prizes': [{'year': '1955'}]}\n",
    "```"
   ]
  },
  {
   "cell_type": "markdown",
   "metadata": {},
   "source": [
    "Primary sorting is ascending by `\"prizes.year\"`. Secondary sort is descending by `\"born\"`. Thus, sort=`[(\"prizes.year\",1),(\"born\",-1)]`."
   ]
  },
  {
   "cell_type": "code",
   "execution_count": 27,
   "metadata": {},
   "outputs": [
    {
     "name": "stdout",
     "output_type": "stream",
     "text": [
      "{'born': '1916-08-25', 'prizes': [{'year': '1954'}]}\n",
      "{'born': '1915-06-15', 'prizes': [{'year': '1954'}]}\n",
      "{'born': '1901-02-28', 'prizes': [{'year': '1962'}, {'year': '1954'}]}\n",
      "{'born': '1913-07-12', 'prizes': [{'year': '1955'}]}\n",
      "{'born': '1911-01-26', 'prizes': [{'year': '1955'}]}\n"
     ]
    }
   ],
   "source": [
    "my_sort = [(\"prizes.year\",1),(\"born\",-1)]\n",
    "\n",
    "docs = list(db.laureates.find(\n",
    "    {\"born\": {\"$gte\": \"1900\"}, \"prizes.year\": {\"$gte\": \"1954\"}, \"gender\":{\"$in\":[\"male\",\"female\"]}},\n",
    "    {\"born\": 1, \"prizes.year\": 1, \"_id\": 0},\n",
    "    sort = my_sort))\n",
    "for doc in docs[:5]:\n",
    "    print(doc)"
   ]
  },
  {
   "cell_type": "markdown",
   "metadata": {},
   "source": [
    "## 3: Indexing"
   ]
  },
  {
   "cell_type": "markdown",
   "metadata": {},
   "source": [
    "### What are indexes?"
   ]
  },
  {
   "cell_type": "markdown",
   "metadata": {},
   "source": [
    "![](assets/index-steps-1.png)"
   ]
  },
  {
   "cell_type": "markdown",
   "metadata": {},
   "source": [
    "![](assets/index-steps-2.png)"
   ]
  },
  {
   "cell_type": "markdown",
   "metadata": {},
   "source": [
    "![](assets/index-steps-3.png)"
   ]
  },
  {
   "cell_type": "markdown",
   "metadata": {},
   "source": [
    "### When to use indexes?\n",
    "\n",
    "* Queries with high specificity\n",
    "* Large documents\n",
    "* Large collections"
   ]
  },
  {
   "cell_type": "markdown",
   "metadata": {},
   "source": [
    "### Getting index information"
   ]
  },
  {
   "cell_type": "code",
   "execution_count": 28,
   "metadata": {},
   "outputs": [
    {
     "data": {
      "text/plain": [
       "{'_id_': {'v': 2, 'key': [('_id', 1)], 'ns': 'nobel.prizes'}}"
      ]
     },
     "execution_count": 28,
     "metadata": {},
     "output_type": "execute_result"
    }
   ],
   "source": [
    "db.prizes.index_information()"
   ]
  },
  {
   "cell_type": "markdown",
   "metadata": {},
   "source": [
    "### Gauging performance before indexing"
   ]
  },
  {
   "cell_type": "markdown",
   "metadata": {},
   "source": [
    "Jupyter Notebook `%%timeit`magic (same as `python -m timeit \"[expression]\"`) "
   ]
  },
  {
   "cell_type": "code",
   "execution_count": 29,
   "metadata": {},
   "outputs": [
    {
     "name": "stdout",
     "output_type": "stream",
     "text": [
      "577 µs ± 22.4 µs per loop (mean ± std. dev. of 7 runs, 1000 loops each)\n"
     ]
    }
   ],
   "source": [
    "%%timeit\n",
    "docs = list(db.prizes.find({\"year\": \"1901\"}))"
   ]
  },
  {
   "cell_type": "code",
   "execution_count": 30,
   "metadata": {},
   "outputs": [
    {
     "name": "stdout",
     "output_type": "stream",
     "text": [
      "5 ms ± 269 µs per loop (mean ± std. dev. of 7 runs, 100 loops each)\n"
     ]
    }
   ],
   "source": [
    "%%timeit\n",
    "docs = list(db.prizes.find({}, sort=[(\"year\", 1)]))"
   ]
  },
  {
   "cell_type": "code",
   "execution_count": 31,
   "metadata": {},
   "outputs": [
    {
     "name": "stdout",
     "output_type": "stream",
     "text": [
      "4.79 ms ± 400 µs per loop (mean ± std. dev. of 7 runs, 100 loops each)\n"
     ]
    }
   ],
   "source": [
    "%%timeit\n",
    "docs = list(db.prizes.find({}, sort=[(\"year\", -1)]))"
   ]
  },
  {
   "cell_type": "markdown",
   "metadata": {},
   "source": [
    "### Adding a single-field index"
   ]
  },
  {
   "cell_type": "markdown",
   "metadata": {},
   "source": [
    "* index model: list of `(field, direction)`pairs.\n",
    "* directions: 1 (ascending) and -1 (descending)"
   ]
  },
  {
   "cell_type": "code",
   "execution_count": 32,
   "metadata": {},
   "outputs": [
    {
     "data": {
      "text/plain": [
       "'year_1'"
      ]
     },
     "execution_count": 32,
     "metadata": {},
     "output_type": "execute_result"
    }
   ],
   "source": [
    "db.prizes.create_index([(\"year\", 1)])"
   ]
  },
  {
   "cell_type": "code",
   "execution_count": 33,
   "metadata": {},
   "outputs": [
    {
     "data": {
      "text/plain": [
       "{'_id_': {'v': 2, 'key': [('_id', 1)], 'ns': 'nobel.prizes'},\n",
       " 'year_1': {'v': 2, 'key': [('year', 1)], 'ns': 'nobel.prizes'}}"
      ]
     },
     "execution_count": 33,
     "metadata": {},
     "output_type": "execute_result"
    }
   ],
   "source": [
    "db.prizes.index_information()"
   ]
  },
  {
   "cell_type": "code",
   "execution_count": 34,
   "metadata": {},
   "outputs": [
    {
     "name": "stdout",
     "output_type": "stream",
     "text": [
      "330 µs ± 12.1 µs per loop (mean ± std. dev. of 7 runs, 1000 loops each)\n"
     ]
    }
   ],
   "source": [
    "%%timeit\n",
    "docs = list(db.prizes.find({\"year\": \"1901\"}))"
   ]
  },
  {
   "cell_type": "code",
   "execution_count": 35,
   "metadata": {},
   "outputs": [
    {
     "name": "stdout",
     "output_type": "stream",
     "text": [
      "3.89 ms ± 122 µs per loop (mean ± std. dev. of 7 runs, 100 loops each)\n"
     ]
    }
   ],
   "source": [
    "%%timeit\n",
    "docs = list(db.prizes.find({}, sort=[(\"year\", 1)]))"
   ]
  },
  {
   "cell_type": "code",
   "execution_count": 36,
   "metadata": {},
   "outputs": [
    {
     "name": "stdout",
     "output_type": "stream",
     "text": [
      "4.07 ms ± 122 µs per loop (mean ± std. dev. of 7 runs, 100 loops each)\n"
     ]
    }
   ],
   "source": [
    "%%timeit\n",
    "docs = list(db.prizes.find({}, sort=[(\"year\", -1)]))"
   ]
  },
  {
   "cell_type": "code",
   "execution_count": 37,
   "metadata": {},
   "outputs": [],
   "source": [
    "db.prizes.drop_index([(\"year\", 1)])"
   ]
  },
  {
   "cell_type": "code",
   "execution_count": 38,
   "metadata": {},
   "outputs": [
    {
     "data": {
      "text/plain": [
       "'year_-1'"
      ]
     },
     "execution_count": 38,
     "metadata": {},
     "output_type": "execute_result"
    }
   ],
   "source": [
    "db.prizes.create_index([(\"year\", -1)])"
   ]
  },
  {
   "cell_type": "code",
   "execution_count": 39,
   "metadata": {},
   "outputs": [
    {
     "name": "stdout",
     "output_type": "stream",
     "text": [
      "4.36 ms ± 249 µs per loop (mean ± std. dev. of 7 runs, 100 loops each)\n"
     ]
    }
   ],
   "source": [
    "%%timeit\n",
    "docs = list(db.prizes.find({}, sort=[(\"year\", -1)]))"
   ]
  },
  {
   "cell_type": "code",
   "execution_count": 40,
   "metadata": {},
   "outputs": [],
   "source": [
    "db.prizes.drop_index([(\"year\", -1)])"
   ]
  },
  {
   "cell_type": "markdown",
   "metadata": {},
   "source": [
    "### Adding a compound (multiple-field) index\n",
    "\n",
    "* index \"covering\" a query with projection"
   ]
  },
  {
   "cell_type": "code",
   "execution_count": 41,
   "metadata": {},
   "outputs": [
    {
     "name": "stdout",
     "output_type": "stream",
     "text": [
      "620 µs ± 3.05 µs per loop (mean ± std. dev. of 7 runs, 1000 loops each)\n"
     ]
    }
   ],
   "source": [
    "%%timeit\n",
    "list(db.prizes.find({\"category\": \"economics\"}, {\"year\": 1, \"_id\": 0}))"
   ]
  },
  {
   "cell_type": "code",
   "execution_count": 42,
   "metadata": {},
   "outputs": [
    {
     "data": {
      "text/plain": [
       "'category_1_year_1'"
      ]
     },
     "execution_count": 42,
     "metadata": {},
     "output_type": "execute_result"
    }
   ],
   "source": [
    "db.prizes.create_index([(\"category\", 1), (\"year\", 1)])"
   ]
  },
  {
   "cell_type": "code",
   "execution_count": 43,
   "metadata": {},
   "outputs": [
    {
     "name": "stdout",
     "output_type": "stream",
     "text": [
      "435 µs ± 12.3 µs per loop (mean ± std. dev. of 7 runs, 1000 loops each)\n"
     ]
    }
   ],
   "source": [
    "%%timeit\n",
    "list(db.prizes.find({\"category\": \"economics\"}, {\"year\": 1, \"_id\": 0}))"
   ]
  },
  {
   "cell_type": "code",
   "execution_count": 44,
   "metadata": {},
   "outputs": [],
   "source": [
    "db.prizes.drop_index([(\"category\", 1), (\"year\", 1)])"
   ]
  },
  {
   "cell_type": "markdown",
   "metadata": {},
   "source": [
    "* index \"covering\" a query with projection and sorting"
   ]
  },
  {
   "cell_type": "code",
   "execution_count": 45,
   "metadata": {},
   "outputs": [
    {
     "name": "stdout",
     "output_type": "stream",
     "text": [
      "698 µs ± 62.2 µs per loop (mean ± std. dev. of 7 runs, 1000 loops each)\n"
     ]
    }
   ],
   "source": [
    "%%timeit\n",
    "db.prizes.find_one(\n",
    "    {\"category\": \"economics\"},\n",
    "    {\"year\": 1, \"_id\": 0},\n",
    "    sort=[(\"year\", 1)]\n",
    ")"
   ]
  },
  {
   "cell_type": "code",
   "execution_count": 46,
   "metadata": {},
   "outputs": [
    {
     "data": {
      "text/plain": [
       "'category_1_year_1'"
      ]
     },
     "execution_count": 46,
     "metadata": {},
     "output_type": "execute_result"
    }
   ],
   "source": [
    "db.prizes.create_index([(\"category\", 1), (\"year\", 1)])"
   ]
  },
  {
   "cell_type": "code",
   "execution_count": 47,
   "metadata": {},
   "outputs": [
    {
     "name": "stdout",
     "output_type": "stream",
     "text": [
      "504 µs ± 17.7 µs per loop (mean ± std. dev. of 7 runs, 1000 loops each)\n"
     ]
    }
   ],
   "source": [
    "%%timeit\n",
    "db.prizes.find_one(\n",
    "    {\"category\": \"economics\"},\n",
    "    {\"year\": 1, \"_id\": 0},\n",
    "    sort=[(\"year\", 1)]\n",
    ")"
   ]
  },
  {
   "cell_type": "code",
   "execution_count": 48,
   "metadata": {},
   "outputs": [],
   "source": [
    "db.prizes.drop_index([(\"category\", 1), (\"year\", 1)])"
   ]
  }
 ],
 "metadata": {
  "kernelspec": {
   "display_name": "Python 3",
   "language": "python",
   "name": "python3"
  },
  "language_info": {
   "codemirror_mode": {
    "name": "ipython",
    "version": 3
   },
   "file_extension": ".py",
   "mimetype": "text/x-python",
   "name": "python",
   "nbconvert_exporter": "python",
   "pygments_lexer": "ipython3",
   "version": "3.8.3"
  }
 },
 "nbformat": 4,
 "nbformat_minor": 2
}
