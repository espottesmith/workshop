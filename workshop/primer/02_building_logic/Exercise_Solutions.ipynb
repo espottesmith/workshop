{
 "cells": [
  {
   "cell_type": "markdown",
   "metadata": {},
   "source": [
    "# Python Primer Part II Exercises (with Solutions)"
   ]
  },
  {
   "cell_type": "markdown",
   "metadata": {},
   "source": [
    "## Lesson 5: Conditionals"
   ]
  },
  {
   "cell_type": "markdown",
   "metadata": {},
   "source": [
    "### Exercise:\n",
    "\n",
    "Write a Python program to convert temperatures to and from celsius, fahrenheit.\n",
    "\n",
    "Formula : c/5 = f-32/9 (where c = temperature in celsius and f = temperature in fahrenheit )\n",
    "\n",
    "Expected Output : \n",
    "\n",
    "60°C is 140 in Fahrenheit\n",
    "\n",
    "45°F is 7 in Celsius "
   ]
  },
  {
   "cell_type": "code",
   "execution_count": 1,
   "metadata": {},
   "outputs": [
    {
     "name": "stdout",
     "output_type": "stream",
     "text": [
      "Input the  temperature you like to convert? (e.g., 45F, 102C etc.) : 100C\n",
      "The temperature in Celsius is 38 degrees.\n"
     ]
    }
   ],
   "source": [
    "# gather input from the user\n",
    "temp = input(\"Input the  temperature you like to convert? (e.g., 45F, 102C etc.) : \")\n",
    "\n",
    "# parse the string of input from the user\n",
    "degree = int(temp[:-1])\n",
    "i_convention = temp[-1]\n",
    "\n",
    "if i_convention.upper() == 'F':\n",
    "  result = int(round((9 * degree) / 5 + 32))\n",
    "  o_convention = \"Fahrenheit\"\n",
    "elif i_convention.upper() == 'C':\n",
    "  result = int(round((degree - 32) * 5 / 9))\n",
    "  o_convention = \"Celsius\"\n",
    "else:\n",
    "  print(\"Input proper convention.\")\n",
    "  quit()\n",
    "print(\"The temperature in\", o_convention, \"is\", result, \"degrees.\")\n"
   ]
  },
  {
   "cell_type": "markdown",
   "metadata": {},
   "source": [
    "### Exercise:\n",
    "\n",
    "Who discovered your favorite elements?\n",
    "\n",
    "Let's write a simple test to see which elements were discovered by discoverer A, discoverer B, and both!"
   ]
  },
  {
   "cell_type": "code",
   "execution_count": 2,
   "metadata": {},
   "outputs": [],
   "source": [
    "import os\n",
    "from monty.serialization import loadfn"
   ]
  },
  {
   "cell_type": "code",
   "execution_count": 3,
   "metadata": {},
   "outputs": [],
   "source": [
    "data_dir = \"./data/\"\n",
    "\n",
    "# Dictionary of elements, with those who discovered them \n",
    "# and the year they were discovered \n",
    "# (sources: https://en.wikipedia.org/wiki/Timeline_of_chemical_element_discoveries,\n",
    "#  https://education.jlab.org/qa/discover_ele.html)\n",
    "discovery_dict = loadfn(os.path.join(data_dir, \"discoveries.json\"))"
   ]
  },
  {
   "cell_type": "code",
   "execution_count": 4,
   "metadata": {},
   "outputs": [],
   "source": [
    "from pymatgen.core import Element"
   ]
  },
  {
   "cell_type": "code",
   "execution_count": 5,
   "metadata": {},
   "outputs": [
    {
     "name": "stdout",
     "output_type": "stream",
     "text": [
      "For  Bohrium , B is true!\n",
      "For  Dubnium , A and B is true!\n",
      "For  Flerovium , B is true!\n",
      "For  Livermorium , B is true!\n",
      "For  Rutherfordium , B is true!\n"
     ]
    }
   ],
   "source": [
    "# The discoverers we want to explore...\n",
    "discover0 = \"Berkeley\"\n",
    "#discover0 = \"Ghiorso\"\n",
    "\n",
    "discover1 = \"Russia\"\n",
    "\n",
    "# Loop through discoverers to find which elements they discovered\n",
    "for element_name in discovery_dict:\n",
    "    \n",
    "    names = discovery_dict[element_name]['discovered_by']\n",
    "    \n",
    "    A, B = False, False\n",
    "    for name in names:\n",
    "        if discover0 in name:\n",
    "            A = True\n",
    "        if discover1 in name:\n",
    "            B = True\n",
    "\n",
    "    if A and B:\n",
    "        print(\"For \", element_name, \", A and B is true!\")\n",
    "    elif A:\n",
    "        print(\"For \", element_name, \", A is true!\")\n",
    "    elif B:\n",
    "        print(\"For \", element_name, \", B is true!\")"
   ]
  },
  {
   "cell_type": "markdown",
   "metadata": {},
   "source": [
    "## Lesson 6: Sets and Dictionaries"
   ]
  },
  {
   "cell_type": "markdown",
   "metadata": {},
   "source": [
    "### Exercise: create a histogram"
   ]
  },
  {
   "cell_type": "code",
   "execution_count": 6,
   "metadata": {},
   "outputs": [
    {
     "name": "stdout",
     "output_type": "stream",
     "text": [
      "{1: 5, 0: 4, 2: 3, 3: 1}\n"
     ]
    }
   ],
   "source": [
    "numbers = [1, 0, 1, 2, 0, 0, 1, 2, 1, 3, 1, 0, 2]\n",
    "count = {}\n",
    "for n in numbers:\n",
    "    if n not in count:\n",
    "        count[n] = 1\n",
    "    else:\n",
    "        count[n] = count[n] + 1\n",
    "print(count)"
   ]
  },
  {
   "cell_type": "markdown",
   "metadata": {},
   "source": [
    "Reminder: there are lots of useful Python libraries, especially the \"standard library\" that comes with Python:"
   ]
  },
  {
   "cell_type": "code",
   "execution_count": 7,
   "metadata": {},
   "outputs": [
    {
     "name": "stdout",
     "output_type": "stream",
     "text": [
      "Counter({1: 5, 0: 4, 2: 3, 3: 1})\n",
      "{1: 5, 0: 4, 2: 3, 3: 1}\n"
     ]
    }
   ],
   "source": [
    "from collections import Counter\n",
    "\n",
    "print(Counter(numbers))\n",
    "print(dict(Counter(numbers)))"
   ]
  },
  {
   "cell_type": "markdown",
   "metadata": {},
   "source": [
    "### Exercise: How heavy is this molecule?\n",
    "You are given two things:\n",
    "\n",
    "1. a dictionary mapping atomic symbols to atomic weights (`mp_workshop.data.atomic_weights`), and\n",
    "2. a list of (atomic_symbol, count) pairs for a molecule.\n",
    "\n",
    "```python\n",
    "# Example molecules:\n",
    "methane = [('C', 1), ('H', 4)]\n",
    "aminothiazole = [('C', 3), ('H', 4), ('N', 2), ('S', 1)]\n",
    "```\n",
    "\n",
    "Print that molecule's molecular weight.\n"
   ]
  },
  {
   "cell_type": "code",
   "execution_count": 8,
   "metadata": {},
   "outputs": [
    {
     "name": "stdout",
     "output_type": "stream",
     "text": [
      "16.04246\n"
     ]
    }
   ],
   "source": [
    "import os\n",
    "from monty.serialization import loadfn\n",
    "\n",
    "data_dir = \"./data/\"\n",
    "atomic_weights = loadfn(os.path.join(data_dir, \"atomic_weights.json\"))\n",
    "\n",
    "# atomic weight is 16.0423\n",
    "methane = [('C', 1), ('H', 4)]\n",
    "# atomic weight is 100.1421\n",
    "aminothiazole = [('C', 3), ('H', 4), ('N', 2), ('S', 1)]\n",
    "\n",
    "# 2. Pick a molecule to test\n",
    "molecule = methane\n",
    "\n",
    "# 3. Do stuff to calculate `mol_weight`\n",
    "\n",
    "mol_weight = 0.0\n",
    "for specie, number in methane:\n",
    "    mol_weight += number * atomic_weights[specie]\n",
    "\n",
    "print(mol_weight)\n"
   ]
  },
  {
   "cell_type": "markdown",
   "metadata": {},
   "source": [
    "## Lesson 7: Writing Functions"
   ]
  },
  {
   "cell_type": "markdown",
   "metadata": {},
   "source": [
    "### Exercise: Find the first\n",
    "Fill in the blanks to create a function that takes a list of numbers as an argument and returns the first negative value in the list. What does your function do if the list is empty?"
   ]
  },
  {
   "cell_type": "code",
   "execution_count": 9,
   "metadata": {},
   "outputs": [],
   "source": [
    "def first_negative(values):\n",
    "    for v in values:\n",
    "        if v < 0:\n",
    "            return v"
   ]
  },
  {
   "cell_type": "markdown",
   "metadata": {},
   "source": [
    "### Exercise : Running sum\n",
    "Write a function that calculates the running sum of any number of input arguments, returning the result as a list. For example:\n",
    "\n",
    "* running(1, 2) => [1, 3]\n",
    "* running(-5, 2, 7) => [-5, -3, 4]\n",
    "\n",
    "What should running() return, and why?"
   ]
  },
  {
   "cell_type": "markdown",
   "metadata": {},
   "source": [
    "### Exercise: How's your phase-change memory?\n",
    "A chalcogenide is a chemical compound consisting of at least one chalcogen anion (commonly restricted to ‘S’, ‘Se’, or ‘Te’) and at least one more electropositive element. Generalize the `halide` function below as `compound_class`, a function that takes a crystal and function as parameters and returns whether or not the compound is of that class."
   ]
  },
  {
   "cell_type": "code",
   "execution_count": 10,
   "metadata": {},
   "outputs": [
    {
     "name": "stdout",
     "output_type": "stream",
     "text": [
      "True\n"
     ]
    }
   ],
   "source": [
    "# %load code/phase_change_memory.py\n",
    "import random\n",
    "\n",
    "from pymatgen import Element\n",
    "\n",
    "import os\n",
    "from monty.serialization import loadfn\n",
    "\n",
    "data_dir = \"./data/\"\n",
    "crystals = loadfn(os.path.join(data_dir, \"crystals.json\"))\n",
    "\n",
    "\n",
    "def halogen(element):\n",
    "    return element.is_halogen\n",
    "\n",
    "\n",
    "def halide(crystal):\n",
    "    elts = [Element(s) for s in crystal['elements']]\n",
    "    anion = sorted(elts)[-1] # sorts by electronegativity\n",
    "    return halogen(anion)\n",
    "\n",
    "\n",
    "def chalcogen(element):\n",
    "    return element.is_chalogen\n",
    "\n",
    "\n",
    "def compound_class(crystal, predicate):\n",
    "    elts = [Element(s) for s in crystal['elements']]\n",
    "    anion = sorted(elts)[-1] # sorts by electronegativity\n",
    "    return predicate(anion)\n",
    "\n",
    "my_crystal = random.sample(\n",
    "    [c for c in crystals if halide(c)], 1)[0]\n",
    "\n",
    "print(compound_class(my_crystal, halogen)\n",
    "      == halide(my_crystal))"
   ]
  },
  {
   "cell_type": "markdown",
   "metadata": {},
   "source": [
    "# Lesson 8: Test your Skills"
   ]
  },
  {
   "cell_type": "markdown",
   "metadata": {},
   "source": [
    "## Now it's time to put your skills to the test!\n",
    "* Exercise: As a materials investigator, your team has just finished running calculations for a large number of crystal structures. Now, you want to analyze the dataset by writing __functions__ that utilize logic (in the form of __conditionals__) to parse through the datasets in the forms of __dictionaries__ and __lists__."
   ]
  },
  {
   "cell_type": "markdown",
   "metadata": {},
   "source": [
    "First, load the relevant datasets"
   ]
  },
  {
   "cell_type": "code",
   "execution_count": 11,
   "metadata": {},
   "outputs": [],
   "source": [
    "import os\n",
    "from monty.serialization import loadfn\n",
    "\n",
    "data_dir = \"./data/\"\n",
    "\n",
    "# Our crystal structures, in addition to useful elemental information\n",
    "crystals = loadfn(os.path.join(data_dir, \"crystals.json\"))\n",
    "atomic_numbers = loadfn(os.path.join(data_dir, \"atomic_numbers.json\"))\n",
    "atomic_weights = loadfn(os.path.join(data_dir, \"atomic_weights.json\"))\n",
    "\n",
    "# Names of elements associated with an element symbol (e.g. {\"Al\": \"Aluminium\"})\n",
    "element_names = loadfn(os.path.join(data_dir, \"element_names.json\"))\n",
    "\n",
    "# Elemental mass fraction of Earth's crust (source: https://en.wikipedia.org/wiki/Abundances_of_the_elements_(data_page))\n",
    "mass_frac_earth_crust = loadfn(os.path.join(data_dir, \"mass_frac_earth_crust.json\"))\n",
    "\n",
    "# Dictionary of elements, with those who discovered them \n",
    "# and the year they were discovered \n",
    "# (sources: https://en.wikipedia.org/wiki/Timeline_of_chemical_element_discoveries,\n",
    "#  https://education.jlab.org/qa/discover_ele.html)\n",
    "discovery_dict = loadfn(os.path.join(data_dir, \"discoveries.json\"))"
   ]
  },
  {
   "cell_type": "markdown",
   "metadata": {},
   "source": [
    "We have the mapping from `symbol` $\\rightarrow$ `name`, now let's obtain `name` $\\rightarrow$ `symbol` (we'll need it later)"
   ]
  },
  {
   "cell_type": "code",
   "execution_count": 12,
   "metadata": {},
   "outputs": [
    {
     "name": "stdout",
     "output_type": "stream",
     "text": [
      "Silver\n",
      "Ag\n"
     ]
    }
   ],
   "source": [
    "print(element_names[\"Ag\"])\n",
    "\n",
    "element_symbols = {v: k for k, v in element_names.items()}\n",
    "\n",
    "print(element_symbols[\"Silver\"])"
   ]
  },
  {
   "cell_type": "markdown",
   "metadata": {},
   "source": [
    "Next, we'll choose the set of elements that we would like to start with. Each element has a unique story associated with it. We can explore these stories with the information from the element discovery timeline.\n",
    "\n",
    "__Our task:__ Build a function that takes a list of element symbols as input. In addition, if we want to add the elements associated with a particular materials discoverer, we can include some _regex_ (or \"regular expression\") strings corresponding to the discoverers we would like to feature."
   ]
  },
  {
   "cell_type": "code",
   "execution_count": 13,
   "metadata": {},
   "outputs": [],
   "source": [
    "from pymatgen.core import Element, Composition"
   ]
  },
  {
   "cell_type": "code",
   "execution_count": 14,
   "metadata": {},
   "outputs": [],
   "source": [
    "def my_element_discoverer(elements:list=[], discoverers:list=[], prior_to:int=2020):\n",
    "    \n",
    "    # Start with elements provided by user \n",
    "    # (use copy() to not modify list passed to function)\n",
    "    all_elements = elements.copy()\n",
    "    \n",
    "    # Loop through discoverers to find which elements they discovered\n",
    "    # and then add them to your list\n",
    "    for discoverer in discoverers:\n",
    "        for element_name in discovery_dict:\n",
    "            \n",
    "            for name in discovery_dict[element_name]['discovered_by']:\n",
    "                if discoverer in name:\n",
    "                    elem = Element(element_symbols[element_name])\n",
    "                    all_elements.append(elem)\n",
    "    \n",
    "    # Create a new list that will contain only the elements discovered \n",
    "    # before the year you provide\n",
    "    elements_pruned = []\n",
    "    \n",
    "    for elem in all_elements:\n",
    "        element_name = element_names[str(elem)]\n",
    "        if discovery_dict[element_name]['year'] != '?':\n",
    "            year_discovered = int(discovery_dict[element_name]['year'])\n",
    "        else:\n",
    "            # Unknown discovery date (known since ancient times)  \n",
    "            year_discovered = -2000\n",
    "            \n",
    "        if year_discovered < prior_to:\n",
    "            elem = Element(elem)\n",
    "            elements_pruned.append(elem)\n",
    "    \n",
    "    all_elements = elements_pruned\n",
    "    \n",
    "    # Use set() to convert your list into a unique set\n",
    "    # then recast as a list()\n",
    "    all_elements = list(set(all_elements))\n",
    "    \n",
    "    return all_elements\n"
   ]
  },
  {
   "cell_type": "markdown",
   "metadata": {},
   "source": [
    "Let's test out our function! Say we want to use oxygen in addition to elements discovered by scientists with Curie in their name (Marie and Pierre), as well as elements discovered by scientists in Berkeley"
   ]
  },
  {
   "cell_type": "code",
   "execution_count": 15,
   "metadata": {},
   "outputs": [
    {
     "name": "stdout",
     "output_type": "stream",
     "text": [
      "[Element O, Element Db, Element Ra, Element Po]\n"
     ]
    }
   ],
   "source": [
    "my_elements = my_element_discoverer(elements=[\"O\"], \n",
    "                                    discoverers=[\"Curie\", \"Lawrence Berkeley\"], \n",
    "                                    prior_to=2020)\n",
    "print(my_elements)"
   ]
  },
  {
   "cell_type": "markdown",
   "metadata": {},
   "source": [
    "Can you spot which elements are missing?\n",
    "\n",
    "(Hint below)"
   ]
  },
  {
   "cell_type": "code",
   "execution_count": 16,
   "metadata": {},
   "outputs": [
    {
     "name": "stdout",
     "output_type": "stream",
     "text": [
      "[Element Cm, Element Bk, Element Cf, Element Es, Element Fm, Element Md, Element No, Element Lr, Element Rf, Element Sg, Element Am]\n"
     ]
    }
   ],
   "source": [
    "# Discovered by scientists at UC Berkeley\n",
    "my_elements = my_element_discoverer(discoverers=[\"Ghiorso\"], \n",
    "                                    prior_to=2020)\n",
    "print(my_elements)"
   ]
  },
  {
   "cell_type": "markdown",
   "metadata": {},
   "source": [
    "Platinum was found in gold alloys in present day Columbia dating as far back as 800 BC"
   ]
  },
  {
   "cell_type": "code",
   "execution_count": 17,
   "metadata": {},
   "outputs": [
    {
     "name": "stdout",
     "output_type": "stream",
     "text": [
      "[Element Ni, Element Pt]\n"
     ]
    }
   ],
   "source": [
    "my_elements = my_element_discoverer(elements=[\"Ni\"], \n",
    "                                    discoverers=[\"Indigenous People of South America\"], \n",
    "                                    prior_to=1800)\n",
    "print(my_elements)"
   ]
  },
  {
   "cell_type": "markdown",
   "metadata": {},
   "source": [
    "Next, our goal is to find all of the crystals that contain the elements in our list. \n",
    "\n",
    "Once we obtain this list, it is often useful to sort these materials based on a particular metric, depending on which properties that we would like to assess. The two criteria we will use in this study are the molar mass and abundance:\n",
    "\n",
    "* Molar mass = $\\sum_{i=1}^N x_i n_i$, where $n_i$ is the elemental molar mass, and $x_i$ is the molar fraction\n",
    "* Abundance metric = $\\prod_{i=1}^N a_i^{y_i}$, where $a_i$ is the mass abundance of the element $i$, and $y_i$ is the mass fraction in the material"
   ]
  },
  {
   "cell_type": "code",
   "execution_count": 18,
   "metadata": {},
   "outputs": [],
   "source": [
    "import numpy as np"
   ]
  },
  {
   "cell_type": "code",
   "execution_count": 19,
   "metadata": {},
   "outputs": [],
   "source": [
    "def compute_molar_weight(crystal):\n",
    "    # Obtain atomic fractions of material\n",
    "    comp = Composition(crystal[\"pretty_formula\"])                                                                                          \n",
    "    atomic_fractions = [comp.get_atomic_fraction(Element(elem)) for elem in crystal['elements']]\n",
    "    \n",
    "    # Obtain atomic weights of elements in material\n",
    "    weights = [atomic_weights[elem] for elem in crystal['elements']]\n",
    "    \n",
    "    # Compute molar weight of material (weighted mean)\n",
    "    molar_weight = 0.0\n",
    "    for elem,frac,weight in zip(crystal[\"elements\"], atomic_fractions, weights):\n",
    "        molar_weight += frac*weight\n",
    "    \n",
    "    return molar_weight\n",
    "\n",
    "def compute_abundance_metric(crystal):\n",
    "    # Obtain mass fractions of material\n",
    "    comp = Composition(crystal[\"pretty_formula\"])                                                                                          \n",
    "    molar_weight = compute_molar_weight(crystal)\n",
    "    mass_fractions = [comp.get_atomic_fraction(Element(elem))*(atomic_weights[elem]/molar_weight) \n",
    "                      for elem in crystal['elements']]\n",
    "    \n",
    "    # Obtain atomic abundances of elements in material\n",
    "    abundances = [mass_frac_earth_crust[elem] for elem in crystal['elements']]\n",
    "    \n",
    "    # Compute abundance metric (geometric mean)\n",
    "    abundance_metric = 1.0\n",
    "    for elem,frac,abundance in zip(crystal[\"elements\"], mass_fractions, abundances):\n",
    "        abundance_metric *= (100*abundance)**frac\n",
    "    \n",
    "    return abundance_metric"
   ]
  },
  {
   "cell_type": "code",
   "execution_count": 20,
   "metadata": {},
   "outputs": [
    {
     "name": "stdout",
     "output_type": "stream",
     "text": [
      "Material: Ca3Ge3(MoO6)2\n",
      "Molar weight (g / mol / # atoms per formula unit) =  36.10134\n",
      "Abundance metric (% kg/kg) =  0.022347289066530374\n"
     ]
    }
   ],
   "source": [
    "crystal = crystals[0]\n",
    "print(\"Material:\", crystal[\"pretty_formula\"])\n",
    "print(\"Molar weight (g / mol / # atoms per formula unit) = \", compute_molar_weight(crystal))\n",
    "print(\"Abundance metric (% kg/kg) = \", compute_abundance_metric(crystal))"
   ]
  },
  {
   "cell_type": "markdown",
   "metadata": {},
   "source": [
    "Now that we have our sorting metrics, let's find the materials in our dataset that contain the elements we have provided, and sort them based on the criteria above.\n",
    "\n",
    "A helpful relation: For finite sets $A$ and $B$, $B \\subseteq A$ if and only if $B = A \\cap B$"
   ]
  },
  {
   "cell_type": "code",
   "execution_count": 21,
   "metadata": {},
   "outputs": [],
   "source": [
    "def get_crystals_from_elements(elements:list, crystals:list, sort_scheme:int=0):\n",
    "    \n",
    "    crystals_matched = []\n",
    "    for crystal in crystals:\n",
    "        \n",
    "        crystal_elems = [Element(elem) for elem in crystal['elements']]\n",
    "        \n",
    "        # We can check if the material contains the elements that we have provided \n",
    "        # (set B in A) by checking if B = intersection(A,B)\n",
    "        intersection = set(elements) & set(crystal_elems)\n",
    "        if set(elements) == intersection:\n",
    "            crystals_matched.append(crystal)\n",
    "        \n",
    "    if sort_scheme == 0:\n",
    "        # Sort by molar weight\n",
    "        sort_key = \"Molar weight (g / mol / # atoms per formula unit)\"\n",
    "        sortable_values = [compute_molar_weight(crystal) for crystal in crystals_matched]\n",
    "    elif sort_scheme == 1:\n",
    "        # Sort by abundance metric\n",
    "        sort_key = \"Abundance metric (% kg/kg)\"\n",
    "        sortable_values = [compute_abundance_metric(crystal) for crystal in crystals_matched]\n",
    "    else:\n",
    "        # Catch all case - no sorting provided\n",
    "        sortable_values = []\n",
    "        print(\"Warning: Invalid sort scheme!\")\n",
    "        return [], [], \"\"\n",
    "    \n",
    "    if sortable_values:\n",
    "        #print(sortable_values)\n",
    "        \n",
    "        # Sort crystals based on sorting metric (reverse to descending order)\n",
    "        value_map = [{\"value\":v, \"crystal\":c} for v,c in zip(sortable_values, crystals_matched)]\n",
    "        value_map = sorted(value_map, key=lambda x: x[\"value\"], reverse=True)        \n",
    "        #sortable_values, crystals_matched = zip(*sorted(zip(sortable_values, crystals_matched), reverse=True))\n",
    "        \n",
    "        # Extract desired values after sorting\n",
    "        sortable_values = [x['value'] for x in value_map]\n",
    "        crystals_matched = [x['crystal'] for x in value_map]\n",
    "        \n",
    "        #print(sortable_values)\n",
    "        \n",
    "    return crystals_matched, sortable_values, sort_key"
   ]
  },
  {
   "cell_type": "markdown",
   "metadata": {},
   "source": [
    "We've built our functions! Now let's test them to search the materials in our dataset"
   ]
  },
  {
   "cell_type": "code",
   "execution_count": 22,
   "metadata": {},
   "outputs": [
    {
     "name": "stdout",
     "output_type": "stream",
     "text": [
      "Number of crystals found:  445\n"
     ]
    }
   ],
   "source": [
    "# The elements we would like to search our dataset\n",
    "elements = [Element(elem) for elem in ['Ca', 'O']]\n",
    "\n",
    "# Testing our function\n",
    "crystals_matched, sorted_values, sort_key = get_crystals_from_elements(elements, crystals, \n",
    "                                                                       sort_scheme=0)\n",
    "\n",
    "# The formulas of the crystals that we searched for\n",
    "formulas = [crystal['pretty_formula'] for crystal in crystals_matched]\n",
    "\n",
    "print(\"Number of crystals found: \", len(crystals_matched))\n",
    "# print(formulas)"
   ]
  },
  {
   "cell_type": "markdown",
   "metadata": {},
   "source": [
    "For a large number of materials, we often gain the most information by perfoming an analysis of how the sorting criteria is distributed. In this case, we can create a histogram of the data using the `matplotlib` package. "
   ]
  },
  {
   "cell_type": "code",
   "execution_count": 24,
   "metadata": {},
   "outputs": [
    {
     "data": {
      "image/png": "[encoded data removed]",
      "text/plain": [
       "<Figure size 432x288 with 1 Axes>"
      ]
     },
     "metadata": {
      "needs_background": "light"
     },
     "output_type": "display_data"
    }
   ],
   "source": [
    "import matplotlib.pyplot as plt\n",
    "\n",
    "number_of_bins = 20\n",
    "plt.hist(sorted_values, number_of_bins)\n",
    "plt.ylabel('Counts')\n",
    "plt.xlabel(sort_key)\n",
    "plt.show()"
   ]
  },
  {
   "cell_type": "code",
   "execution_count": null,
   "metadata": {},
   "outputs": [],
   "source": []
  }
 ],
 "metadata": {
  "kernelspec": {
   "display_name": "Python 3",
   "language": "python",
   "name": "python3"
  },
  "language_info": {
   "codemirror_mode": {
    "name": "ipython",
    "version": 3
   },
   "file_extension": ".py",
   "mimetype": "text/x-python",
   "name": "python",
   "nbconvert_exporter": "python",
   "pygments_lexer": "ipython3",
   "version": "3.7.4"
  }
 },
 "nbformat": 4,
 "nbformat_minor": 2
}
