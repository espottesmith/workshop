{
 "cells": [
  {
   "cell_type": "markdown",
   "metadata": {},
   "source": [
    "# Building Basic Logic in Python"
   ]
  },
  {
   "cell_type": "markdown",
   "metadata": {},
   "source": [
    "## Lesson 5: Conditionals\n",
    "---"
   ]
  },
  {
   "cell_type": "markdown",
   "metadata": {},
   "source": [
    "In our work, we often want to our programs to be make decisions based on what's going on at the time.  Like most other programming languages, python supports __conditional statements__.  The way in which we make decisions in our code based on conditions is through the `if` statement."
   ]
  },
  {
   "cell_type": "markdown",
   "metadata": {},
   "source": [
    "### Booleans"
   ]
  },
  {
   "cell_type": "markdown",
   "metadata": {},
   "source": [
    "The boolean, or `bool`, datatype in Python is useful for logic expressions, and can either be `True` or `False`."
   ]
  },
  {
   "cell_type": "code",
   "execution_count": 1,
   "metadata": {},
   "outputs": [
    {
     "name": "stdout",
     "output_type": "stream",
     "text": [
      "False\n"
     ]
    }
   ],
   "source": [
    "print(3 == 2)"
   ]
  },
  {
   "cell_type": "code",
   "execution_count": 2,
   "metadata": {
    "scrolled": true
   },
   "outputs": [
    {
     "name": "stdout",
     "output_type": "stream",
     "text": [
      "My boolean type  =  <class 'bool'>\n",
      "My boolean value =  True\n"
     ]
    }
   ],
   "source": [
    "mybool = 3 > 2\n",
    "print(\"My boolean type  = \", type(mybool))\n",
    "print(\"My boolean value = \", mybool)"
   ]
  },
  {
   "cell_type": "markdown",
   "metadata": {},
   "source": [
    "### The `if` Statement"
   ]
  },
  {
   "cell_type": "markdown",
   "metadata": {},
   "source": [
    "Let's start with an illustrative example of the state of matter of water (H<sub>2</sub>O) based on the temperature:"
   ]
  },
  {
   "cell_type": "code",
   "execution_count": 3,
   "metadata": {},
   "outputs": [],
   "source": [
    "water_temperature = -1 # degrees celsius"
   ]
  },
  {
   "cell_type": "markdown",
   "metadata": {},
   "source": [
    "Below is the simple if statement: _\"if the temperature of the water is greater than 100 °C, it must be boiling\"_"
   ]
  },
  {
   "cell_type": "code",
   "execution_count": 4,
   "metadata": {},
   "outputs": [],
   "source": [
    "if water_temperature > 100:\n",
    "    print('Boiling!')"
   ]
  },
  {
   "cell_type": "markdown",
   "metadata": {},
   "source": [
    "Now, let's add an `else` catch to our if statement: _\"if ... greater than ..., __otherwise__, the water is not boiling\"_"
   ]
  },
  {
   "cell_type": "code",
   "execution_count": 5,
   "metadata": {},
   "outputs": [
    {
     "name": "stdout",
     "output_type": "stream",
     "text": [
      "Not boiling!\n"
     ]
    }
   ],
   "source": [
    "if water_temperature > 100:\n",
    "    print('Boiling!')\n",
    "else:\n",
    "    print('Not boiling!')"
   ]
  },
  {
   "cell_type": "markdown",
   "metadata": {},
   "source": [
    "We can increase the number of levels of `if` statement in the following manner:\n",
    "\n",
    "```if (condition #1):\n",
    "    execute code for case #1\n",
    "    ...\n",
    ".\n",
    ".\n",
    ".\n",
    "elif (condition #k):\n",
    "    execute code for case #k\n",
    "    ...\n",
    ".\n",
    ".\n",
    ".\n",
    "elif (condition #n):\n",
    "    execute code for case #n\n",
    "    ...\n",
    "else:\n",
    "    execute \"catch all\" case\n",
    "    ...```\n",
    "\n",
    "In principle, there is no limit to the number of intermediate `elif` or \"else, if\" checks."
   ]
  },
  {
   "cell_type": "code",
   "execution_count": 6,
   "metadata": {},
   "outputs": [
    {
     "name": "stdout",
     "output_type": "stream",
     "text": [
      "Solid!\n"
     ]
    }
   ],
   "source": [
    "water_temperature = -5\n",
    "if water_temperature > 100:\n",
    "    print('Boiling!')\n",
    "elif water_temperature > 0:\n",
    "    print('Liquid!')\n",
    "else:\n",
    "    print('Solid!')"
   ]
  },
  {
   "cell_type": "markdown",
   "metadata": {},
   "source": [
    "Note that conditions are demarcated using __indentation__.  This is a contentious property of Python, but is implemented primarily because it makes code much easier to read.  Note also that the indentation level can be almost any combination of whitespace characters (tabs and spaces), but elements of the same indentation block must use the same type of indentation.  \n",
    "\n",
    "Because it gets confusing to use multiple types, the python style guide strongly recommends using 4 spaces to indent, which is the default in the jupyter notebook for example.  This is sometimes more difficult to toggle in text editors, but most of them have online resources for setting up your text editor to use tabs and indentation in a way that conforms to python's style."
   ]
  },
  {
   "cell_type": "markdown",
   "metadata": {},
   "source": [
    "### What is _truth?_"
   ]
  },
  {
   "cell_type": "markdown",
   "metadata": {},
   "source": [
    "We can _typecast_ another datatype as `bool` using `bool()` (we can do this for other fundamental datatypes such as `int` and `float`). \n",
    "\n",
    "The results of some of these casting examples are quite interesting!"
   ]
  },
  {
   "cell_type": "code",
   "execution_count": 7,
   "metadata": {},
   "outputs": [
    {
     "data": {
      "text/plain": [
       "True"
      ]
     },
     "execution_count": 7,
     "metadata": {},
     "output_type": "execute_result"
    }
   ],
   "source": [
    "bool(5)"
   ]
  },
  {
   "cell_type": "code",
   "execution_count": 8,
   "metadata": {},
   "outputs": [
    {
     "data": {
      "text/plain": [
       "True"
      ]
     },
     "execution_count": 8,
     "metadata": {},
     "output_type": "execute_result"
    }
   ],
   "source": [
    "bool(\"beauty\")"
   ]
  },
  {
   "cell_type": "code",
   "execution_count": 9,
   "metadata": {},
   "outputs": [
    {
     "data": {
      "text/plain": [
       "False"
      ]
     },
     "execution_count": 9,
     "metadata": {},
     "output_type": "execute_result"
    }
   ],
   "source": [
    "bool(\"\")"
   ]
  },
  {
   "cell_type": "code",
   "execution_count": 10,
   "metadata": {},
   "outputs": [
    {
     "data": {
      "text/plain": [
       "False"
      ]
     },
     "execution_count": 10,
     "metadata": {},
     "output_type": "execute_result"
    }
   ],
   "source": [
    "bool([])"
   ]
  },
  {
   "cell_type": "code",
   "execution_count": 11,
   "metadata": {},
   "outputs": [
    {
     "data": {
      "text/plain": [
       "False"
      ]
     },
     "execution_count": 11,
     "metadata": {},
     "output_type": "execute_result"
    }
   ],
   "source": [
    "bool({})"
   ]
  },
  {
   "cell_type": "code",
   "execution_count": 12,
   "metadata": {},
   "outputs": [
    {
     "data": {
      "text/plain": [
       "False"
      ]
     },
     "execution_count": 12,
     "metadata": {},
     "output_type": "execute_result"
    }
   ],
   "source": [
    "bool(0)"
   ]
  },
  {
   "cell_type": "code",
   "execution_count": 13,
   "metadata": {},
   "outputs": [
    {
     "data": {
      "text/plain": [
       "False"
      ]
     },
     "execution_count": 13,
     "metadata": {},
     "output_type": "execute_result"
    }
   ],
   "source": [
    "bool(None)"
   ]
  },
  {
   "cell_type": "markdown",
   "metadata": {},
   "source": [
    "Be very careful with this!  Python's \"falsy\" functionality makes code fun to write and easier to read, but can cause problems.  For example, many people will put a simple `if` statement as a conditional on whether the variable is stored as a falsy value (e. g. None). \n",
    "\n",
    "Part of the reason we're mentioning this today is that this is often the case in codes that use a lot of __serialization__ like pymatgen."
   ]
  },
  {
   "cell_type": "code",
   "execution_count": 14,
   "metadata": {},
   "outputs": [],
   "source": [
    "temperature = 0 # store the temperature as a number if you want it to do something\n",
    "if temperature:\n",
    "    print(\"Temperature is\", temperature)"
   ]
  },
  {
   "cell_type": "markdown",
   "metadata": {},
   "source": [
    "## Lesson 6: Sets and Dictionaries\n",
    "---"
   ]
  },
  {
   "cell_type": "markdown",
   "metadata": {},
   "source": [
    "### Use a set to store unique values\n",
    "* Possible to initialize a `set` with `{...}`\n",
    "* But must use `set()` to create an empty set"
   ]
  },
  {
   "cell_type": "code",
   "execution_count": 15,
   "metadata": {},
   "outputs": [
    {
     "name": "stdout",
     "output_type": "stream",
     "text": [
      "is 3 prime? True\n",
      "is 9 prime? False\n"
     ]
    }
   ],
   "source": [
    "primes = {2, 3, 5, 7}\n",
    "print('is 3 prime?', 3 in primes)\n",
    "print('is 9 prime?', 9 in primes)"
   ]
  },
  {
   "cell_type": "markdown",
   "metadata": {},
   "source": [
    "* Intersection, union, etc."
   ]
  },
  {
   "cell_type": "code",
   "execution_count": 16,
   "metadata": {},
   "outputs": [
    {
     "name": "stdout",
     "output_type": "stream",
     "text": [
      "intersection {3, 5, 7}\n",
      "union {2, 3, 5, 7, 9}\n"
     ]
    }
   ],
   "source": [
    "odds = {3, 5, 7, 9}\n",
    "print('intersection', odds & primes)\n",
    "print('union', odds | primes)"
   ]
  },
  {
   "cell_type": "markdown",
   "metadata": {},
   "source": [
    "### Sets are mutable\n",
    "* But only store *unique* values"
   ]
  },
  {
   "cell_type": "code",
   "execution_count": 17,
   "metadata": {},
   "outputs": [
    {
     "name": "stdout",
     "output_type": "stream",
     "text": [
      "primes becomes {2, 3, 5, 7, 11}\n",
      "after removal {2, 3, 5, 11}\n",
      "after adding 11 again {2, 3, 5, 11}\n"
     ]
    }
   ],
   "source": [
    "primes.add(11)\n",
    "print('primes becomes', primes)\n",
    "primes.discard(7)\n",
    "print('after removal', primes)\n",
    "primes.add(11)\n",
    "print('after adding 11 again', primes)"
   ]
  },
  {
   "cell_type": "markdown",
   "metadata": {},
   "source": [
    "### Sets are unordered\n",
    "* Values are stored by *hashing*, which is intentionally as random as possible"
   ]
  },
  {
   "cell_type": "code",
   "execution_count": 18,
   "metadata": {},
   "outputs": [
    {
     "name": "stdout",
     "output_type": "stream",
     "text": [
      "Kohn\n",
      "Cori\n",
      "Hopper\n"
     ]
    }
   ],
   "source": [
    "names = {'Hopper', 'Cori', 'Kohn'}\n",
    "for n in names:\n",
    "    print(n)"
   ]
  },
  {
   "cell_type": "markdown",
   "metadata": {},
   "source": [
    "### Use a dictionary to store key/value pairs\n",
    "Equivalently, store extra information with elements of a set."
   ]
  },
  {
   "cell_type": "code",
   "execution_count": 19,
   "metadata": {},
   "outputs": [
    {
     "name": "stdout",
     "output_type": "stream",
     "text": [
      "1906\n",
      "{'Hopper': 1906, 'Cori': 1896, 'Kohn': 1923}\n"
     ]
    }
   ],
   "source": [
    "birthdays = {'Hopper': 1906, 'Cori': 1896}\n",
    "print(birthdays['Hopper'])\n",
    "birthdays['Kohn'] = 1823 # oops\n",
    "birthdays['Kohn'] = 1923 # that's better\n",
    "print(birthdays)"
   ]
  },
  {
   "cell_type": "markdown",
   "metadata": {},
   "source": [
    "* Just an accident that keys are in order of when entered.\n",
    "* Like sets, dictionaries store keys by hashing, which is as random as possible"
   ]
  },
  {
   "cell_type": "markdown",
   "metadata": {},
   "source": [
    "### Set values and dictionary keys must be immutable\n",
    "* Changing them after insertion would leave data in the wrong place\n",
    "* Use a `tuple` for multi-valued keys"
   ]
  },
  {
   "cell_type": "code",
   "execution_count": 20,
   "metadata": {},
   "outputs": [],
   "source": [
    "people = {('Grace', 'Hopper'): 1906, ('Gerty', 'Cory'): 1896, ('Walter', 'Kohn'): 1923}"
   ]
  },
  {
   "cell_type": "markdown",
   "metadata": {},
   "source": [
    "You can *destructure* a tuple in the heading of a for loop:"
   ]
  },
  {
   "cell_type": "code",
   "execution_count": 21,
   "metadata": {},
   "outputs": [
    {
     "name": "stdout",
     "output_type": "stream",
     "text": [
      "Grace was born in 1906\n",
      "Gerty was born in 1896\n",
      "Walter was born in 1923\n"
     ]
    }
   ],
   "source": [
    "for (first, last) in people:\n",
    "    print(first,'was born in', people[(first, last)])"
   ]
  },
  {
   "cell_type": "markdown",
   "metadata": {},
   "source": [
    "## Lesson 7: Writing Functions\n",
    "---"
   ]
  },
  {
   "cell_type": "markdown",
   "metadata": {},
   "source": [
    "### Break down programs into functions\n",
    "* Readability: human beings can only keep a few items in working memory at a time. Encapsulate complexity so that we can treat it as a single “thing”.\n",
    "* Reuse: write one time, use many times.\n",
    "* Testing: components with well-defined boundaries are easier to test."
   ]
  },
  {
   "cell_type": "markdown",
   "metadata": {},
   "source": [
    "### Define a function using `def` with a name, parameters, and a block of code\n",
    "\n",
    "* Function name must obey the same rules as variable names\n",
    "* Put *parameters* in parentheses\n",
    "* Then a colon, then an indented code block"
   ]
  },
  {
   "cell_type": "code",
   "execution_count": 22,
   "metadata": {},
   "outputs": [],
   "source": [
    "# Empty parentheses if the function doesn't take any inputs:\n",
    "def print_greeting():\n",
    "    print('Hello!')"
   ]
  },
  {
   "cell_type": "markdown",
   "metadata": {
    "collapsed": true
   },
   "source": [
    "### Arguments in call are matched to parameters in definition"
   ]
  },
  {
   "cell_type": "code",
   "execution_count": 23,
   "metadata": {},
   "outputs": [
    {
     "name": "stdout",
     "output_type": "stream",
     "text": [
      "1871/3/19\n"
     ]
    }
   ],
   "source": [
    "def print_date(year, month, day):\n",
    "    joined = str(year) + '/' + str(month) + '/' + str(day)\n",
    "    print(joined)\n",
    "\n",
    "print_date(1871, 3, 19)"
   ]
  },
  {
   "cell_type": "markdown",
   "metadata": {
    "collapsed": true
   },
   "source": [
    "### Functions may return a result to their caller using `return`\n",
    "\n",
    "* May occur anywhere in the function\n",
    "* But functions are easier to understand if `return` occurs\n",
    "   * At the start, to handle special cases\n",
    "   * At the very end, with a final result\n",
    "\n",
    "\n",
    "* Functions without explicit `return` produce `None`"
   ]
  },
  {
   "cell_type": "code",
   "execution_count": 24,
   "metadata": {},
   "outputs": [],
   "source": [
    "def average(values):\n",
    "    if len(values) == 0:\n",
    "        return None\n",
    "    return sum(values) / len(values)"
   ]
  },
  {
   "cell_type": "code",
   "execution_count": 25,
   "metadata": {},
   "outputs": [
    {
     "name": "stdout",
     "output_type": "stream",
     "text": [
      "average of actual values: 2.6666666666666665\n"
     ]
    }
   ],
   "source": [
    "a = average([1, 3, 4])\n",
    "print('average of actual values:', a)"
   ]
  },
  {
   "cell_type": "code",
   "execution_count": 26,
   "metadata": {},
   "outputs": [
    {
     "name": "stdout",
     "output_type": "stream",
     "text": [
      "average of empty list: None\n"
     ]
    }
   ],
   "source": [
    "print('average of empty list:', average([]))"
   ]
  },
  {
   "cell_type": "code",
   "execution_count": 27,
   "metadata": {},
   "outputs": [
    {
     "name": "stdout",
     "output_type": "stream",
     "text": [
      "1871/3/19\n",
      "result of call is: None\n"
     ]
    }
   ],
   "source": [
    "result = print_date(1871, 3, 19)\n",
    "print('result of call is:', result)"
   ]
  },
  {
   "cell_type": "markdown",
   "metadata": {},
   "source": [
    "### Can specify default values for parameters\n",
    "* All paramters with defaults must come *after* all parameters without.\n",
    "* Otherwise, argument-to-parameter matching would be ambigious.\n",
    "* Makes common cases simpler, and signals intent"
   ]
  },
  {
   "cell_type": "code",
   "execution_count": 28,
   "metadata": {},
   "outputs": [
    {
     "name": "stdout",
     "output_type": "stream",
     "text": [
      "my_sum with default: 6.0\n",
      "sum with factor: 3.0\n"
     ]
    }
   ],
   "source": [
    "def my_sum(values, scale=1.0):\n",
    "    result = 0.0\n",
    "    for v in values:\n",
    "        result += v * scale\n",
    "    return result\n",
    "\n",
    "print('my_sum with default:', my_sum([1, 2, 3]))\n",
    "print('sum with factor:', my_sum([1, 2, 3], 0.5))"
   ]
  },
  {
   "cell_type": "code",
   "execution_count": 29,
   "metadata": {},
   "outputs": [],
   "source": [
    "# Succinctly...\n",
    "def my_sum(values, scale=1.0):\n",
    "    return sum(v * scale for v in values)"
   ]
  },
  {
   "cell_type": "markdown",
   "metadata": {},
   "source": [
    "### Can pass parameters by name\n",
    "* Helpful when functions have lots of options\n",
    "> If you have a procedure with ten parameters, you probably missed some. <br>-- from \"Epigrams in Programming\", by Alan J. Perlis"
   ]
  },
  {
   "cell_type": "code",
   "execution_count": 30,
   "metadata": {},
   "outputs": [
    {
     "name": "stdout",
     "output_type": "stream",
     "text": [
      "out of order: 1.5\n"
     ]
    }
   ],
   "source": [
    "print('out of order:', my_sum(scale=0.25, values=[1, 2, 3]))"
   ]
  },
  {
   "cell_type": "markdown",
   "metadata": {},
   "source": [
    "### Functions can take a variable number of arguments\n",
    "* Prefix at most one parameter's name with `*`.\n",
    "* By convention, everyone calls the parameters `*args`.\n",
    "* All \"extra\" paramters are put in a list-like structure assigned to that parameter"
   ]
  },
  {
   "cell_type": "code",
   "execution_count": 31,
   "metadata": {},
   "outputs": [
    {
     "name": "stdout",
     "output_type": "stream",
     "text": [
      "with one value: 0.5\n",
      "with two values: 2.0\n"
     ]
    }
   ],
   "source": [
    "def total(scale, *args):\n",
    "    return sum(a * scale for a in args)\n",
    "\n",
    "print('with one value:', total(0.5, 1))\n",
    "print('with two values:', total(0.5, 1, 3))"
   ]
  },
  {
   "cell_type": "markdown",
   "metadata": {},
   "source": [
    "### Functions can return multiple values\n",
    "* This is just a special case of many-to-many assignment"
   ]
  },
  {
   "cell_type": "code",
   "execution_count": 32,
   "metadata": {},
   "outputs": [
    {
     "name": "stdout",
     "output_type": "stream",
     "text": [
      "order(10, 5): 5 10\n"
     ]
    }
   ],
   "source": [
    "red, green, blue = 10, 50, 180\n",
    "\n",
    "def order(a, b):\n",
    "    if a < b:\n",
    "        return a, b\n",
    "    else:\n",
    "        return b, a\n",
    "\n",
    "low, high = order(10, 5)\n",
    "print('order(10, 5):', low, high)"
   ]
  },
  {
   "cell_type": "code",
   "execution_count": null,
   "metadata": {},
   "outputs": [],
   "source": []
  }
 ],
 "metadata": {
  "kernelspec": {
   "display_name": "Python 3",
   "language": "python",
   "name": "python3"
  },
  "language_info": {
   "codemirror_mode": {
    "name": "ipython",
    "version": 3
   },
   "file_extension": ".py",
   "mimetype": "text/x-python",
   "name": "python",
   "nbconvert_exporter": "python",
   "pygments_lexer": "ipython3",
   "version": "3.7.4"
  }
 },
 "nbformat": 4,
 "nbformat_minor": 2
}
